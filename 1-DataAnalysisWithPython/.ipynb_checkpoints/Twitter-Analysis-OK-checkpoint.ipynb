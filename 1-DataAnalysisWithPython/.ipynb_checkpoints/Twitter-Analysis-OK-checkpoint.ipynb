{
 "cells": [
  {
   "cell_type": "markdown",
   "metadata": {},
   "source": [
    "# Análise de Dados do Twitter"
   ]
  },
  {
   "cell_type": "code",
   "execution_count": 1,
   "metadata": {},
   "outputs": [],
   "source": [
    "import numpy as np\n",
    "import pandas as pd\n",
    "import matplotlib.pyplot as plt\n",
    "\n",
    "%matplotlib inline"
   ]
  },
  {
   "cell_type": "markdown",
   "metadata": {},
   "source": [
    "![separator1](https://i.imgur.com/ZUWYTii.png)"
   ]
  },
  {
   "cell_type": "markdown",
   "metadata": {},
   "source": [
    "# Carregar dados"
   ]
  },
  {
   "cell_type": "code",
   "execution_count": 2,
   "metadata": {},
   "outputs": [],
   "source": [
    "df = pd.read_csv('data/Bolsonaro1.csv')"
   ]
  },
  {
   "cell_type": "code",
   "execution_count": 3,
   "metadata": {},
   "outputs": [
    {
     "data": {
      "text/html": [
       "<div>\n",
       "<style scoped>\n",
       "    .dataframe tbody tr th:only-of-type {\n",
       "        vertical-align: middle;\n",
       "    }\n",
       "\n",
       "    .dataframe tbody tr th {\n",
       "        vertical-align: top;\n",
       "    }\n",
       "\n",
       "    .dataframe thead th {\n",
       "        text-align: right;\n",
       "    }\n",
       "</style>\n",
       "<table border=\"1\" class=\"dataframe\">\n",
       "  <thead>\n",
       "    <tr style=\"text-align: right;\">\n",
       "      <th></th>\n",
       "      <th>hora</th>\n",
       "      <th>twitts</th>\n",
       "    </tr>\n",
       "  </thead>\n",
       "  <tbody>\n",
       "    <tr>\n",
       "      <th>0</th>\n",
       "      <td>03:23:20</td>\n",
       "      <td>[('0', 472), ('1', 29)]</td>\n",
       "    </tr>\n",
       "    <tr>\n",
       "      <th>1</th>\n",
       "      <td>03:23:59</td>\n",
       "      <td>[('0', 465), ('1', 36)]</td>\n",
       "    </tr>\n",
       "    <tr>\n",
       "      <th>2</th>\n",
       "      <td>03:24:39</td>\n",
       "      <td>[('0', 463), ('1', 38)]</td>\n",
       "    </tr>\n",
       "    <tr>\n",
       "      <th>3</th>\n",
       "      <td>03:25:16</td>\n",
       "      <td>[('0', 470), ('1', 31)]</td>\n",
       "    </tr>\n",
       "    <tr>\n",
       "      <th>4</th>\n",
       "      <td>03:25:52</td>\n",
       "      <td>[('0', 470), ('1', 31)]</td>\n",
       "    </tr>\n",
       "  </tbody>\n",
       "</table>\n",
       "</div>"
      ],
      "text/plain": [
       "       hora                   twitts\n",
       "0  03:23:20  [('0', 472), ('1', 29)]\n",
       "1  03:23:59  [('0', 465), ('1', 36)]\n",
       "2  03:24:39  [('0', 463), ('1', 38)]\n",
       "3  03:25:16  [('0', 470), ('1', 31)]\n",
       "4  03:25:52  [('0', 470), ('1', 31)]"
      ]
     },
     "execution_count": 3,
     "metadata": {},
     "output_type": "execute_result"
    }
   ],
   "source": [
    "df.head()"
   ]
  },
  {
   "cell_type": "code",
   "execution_count": 4,
   "metadata": {},
   "outputs": [
    {
     "data": {
      "text/plain": [
       "(51, 2)"
      ]
     },
     "execution_count": 4,
     "metadata": {},
     "output_type": "execute_result"
    }
   ],
   "source": [
    "df.shape"
   ]
  },
  {
   "cell_type": "code",
   "execution_count": 5,
   "metadata": {},
   "outputs": [
    {
     "name": "stdout",
     "output_type": "stream",
     "text": [
      "<class 'pandas.core.frame.DataFrame'>\n",
      "RangeIndex: 51 entries, 0 to 50\n",
      "Data columns (total 2 columns):\n",
      " #   Column  Non-Null Count  Dtype \n",
      "---  ------  --------------  ----- \n",
      " 0   hora    51 non-null     object\n",
      " 1   twitts  51 non-null     object\n",
      "dtypes: object(2)\n",
      "memory usage: 944.0+ bytes\n"
     ]
    }
   ],
   "source": [
    "df.info()"
   ]
  },
  {
   "cell_type": "code",
   "execution_count": 6,
   "metadata": {
    "scrolled": false
   },
   "outputs": [
    {
     "data": {
      "text/plain": [
       "hora      object\n",
       "twitts    object\n",
       "dtype: object"
      ]
     },
     "execution_count": 6,
     "metadata": {},
     "output_type": "execute_result"
    }
   ],
   "source": [
    "df.dtypes"
   ]
  },
  {
   "cell_type": "markdown",
   "metadata": {},
   "source": [
    "![separator1](https://i.imgur.com/ZUWYTii.png)"
   ]
  },
  {
   "cell_type": "markdown",
   "metadata": {},
   "source": [
    "# Transformar a coluna hora em \"datetime\""
   ]
  },
  {
   "cell_type": "code",
   "execution_count": 7,
   "metadata": {},
   "outputs": [
    {
     "data": {
      "text/plain": [
       "0   2021-01-30 03:23:20\n",
       "1   2021-01-30 03:23:59\n",
       "2   2021-01-30 03:24:39\n",
       "3   2021-01-30 03:25:16\n",
       "4   2021-01-30 03:25:52\n",
       "Name: hora, dtype: datetime64[ns]"
      ]
     },
     "execution_count": 7,
     "metadata": {},
     "output_type": "execute_result"
    }
   ],
   "source": [
    "# Turn this column in a datetime:\n",
    "pd.to_datetime(df['hora']).head()"
   ]
  },
  {
   "cell_type": "code",
   "execution_count": 8,
   "metadata": {},
   "outputs": [],
   "source": [
    "# Put on df:\n",
    "df['hora'] = pd.to_datetime(df['hora'])"
   ]
  },
  {
   "cell_type": "code",
   "execution_count": 9,
   "metadata": {},
   "outputs": [
    {
     "data": {
      "text/html": [
       "<div>\n",
       "<style scoped>\n",
       "    .dataframe tbody tr th:only-of-type {\n",
       "        vertical-align: middle;\n",
       "    }\n",
       "\n",
       "    .dataframe tbody tr th {\n",
       "        vertical-align: top;\n",
       "    }\n",
       "\n",
       "    .dataframe thead th {\n",
       "        text-align: right;\n",
       "    }\n",
       "</style>\n",
       "<table border=\"1\" class=\"dataframe\">\n",
       "  <thead>\n",
       "    <tr style=\"text-align: right;\">\n",
       "      <th></th>\n",
       "      <th>hora</th>\n",
       "      <th>twitts</th>\n",
       "    </tr>\n",
       "  </thead>\n",
       "  <tbody>\n",
       "    <tr>\n",
       "      <th>0</th>\n",
       "      <td>2021-01-30 03:23:20</td>\n",
       "      <td>[('0', 472), ('1', 29)]</td>\n",
       "    </tr>\n",
       "    <tr>\n",
       "      <th>1</th>\n",
       "      <td>2021-01-30 03:23:59</td>\n",
       "      <td>[('0', 465), ('1', 36)]</td>\n",
       "    </tr>\n",
       "    <tr>\n",
       "      <th>2</th>\n",
       "      <td>2021-01-30 03:24:39</td>\n",
       "      <td>[('0', 463), ('1', 38)]</td>\n",
       "    </tr>\n",
       "    <tr>\n",
       "      <th>3</th>\n",
       "      <td>2021-01-30 03:25:16</td>\n",
       "      <td>[('0', 470), ('1', 31)]</td>\n",
       "    </tr>\n",
       "    <tr>\n",
       "      <th>4</th>\n",
       "      <td>2021-01-30 03:25:52</td>\n",
       "      <td>[('0', 470), ('1', 31)]</td>\n",
       "    </tr>\n",
       "  </tbody>\n",
       "</table>\n",
       "</div>"
      ],
      "text/plain": [
       "                 hora                   twitts\n",
       "0 2021-01-30 03:23:20  [('0', 472), ('1', 29)]\n",
       "1 2021-01-30 03:23:59  [('0', 465), ('1', 36)]\n",
       "2 2021-01-30 03:24:39  [('0', 463), ('1', 38)]\n",
       "3 2021-01-30 03:25:16  [('0', 470), ('1', 31)]\n",
       "4 2021-01-30 03:25:52  [('0', 470), ('1', 31)]"
      ]
     },
     "execution_count": 9,
     "metadata": {},
     "output_type": "execute_result"
    }
   ],
   "source": [
    "df.head()"
   ]
  },
  {
   "cell_type": "code",
   "execution_count": 10,
   "metadata": {
    "scrolled": false
   },
   "outputs": [
    {
     "data": {
      "text/plain": [
       "hora      datetime64[ns]\n",
       "twitts            object\n",
       "dtype: object"
      ]
     },
     "execution_count": 10,
     "metadata": {},
     "output_type": "execute_result"
    }
   ],
   "source": [
    "df.dtypes"
   ]
  },
  {
   "cell_type": "markdown",
   "metadata": {},
   "source": [
    "![separator1](https://i.imgur.com/ZUWYTii.png)"
   ]
  },
  {
   "cell_type": "markdown",
   "metadata": {},
   "source": [
    "# Colocar a coluna hora como índice"
   ]
  },
  {
   "cell_type": "code",
   "execution_count": 11,
   "metadata": {},
   "outputs": [],
   "source": [
    "# Set the index of the df to be the \"hora\"\n",
    "df.set_index('hora', inplace=True)"
   ]
  },
  {
   "cell_type": "code",
   "execution_count": 12,
   "metadata": {},
   "outputs": [
    {
     "data": {
      "text/html": [
       "<div>\n",
       "<style scoped>\n",
       "    .dataframe tbody tr th:only-of-type {\n",
       "        vertical-align: middle;\n",
       "    }\n",
       "\n",
       "    .dataframe tbody tr th {\n",
       "        vertical-align: top;\n",
       "    }\n",
       "\n",
       "    .dataframe thead th {\n",
       "        text-align: right;\n",
       "    }\n",
       "</style>\n",
       "<table border=\"1\" class=\"dataframe\">\n",
       "  <thead>\n",
       "    <tr style=\"text-align: right;\">\n",
       "      <th></th>\n",
       "      <th>twitts</th>\n",
       "    </tr>\n",
       "    <tr>\n",
       "      <th>hora</th>\n",
       "      <th></th>\n",
       "    </tr>\n",
       "  </thead>\n",
       "  <tbody>\n",
       "    <tr>\n",
       "      <th>2021-01-30 03:23:20</th>\n",
       "      <td>[('0', 472), ('1', 29)]</td>\n",
       "    </tr>\n",
       "    <tr>\n",
       "      <th>2021-01-30 03:23:59</th>\n",
       "      <td>[('0', 465), ('1', 36)]</td>\n",
       "    </tr>\n",
       "    <tr>\n",
       "      <th>2021-01-30 03:24:39</th>\n",
       "      <td>[('0', 463), ('1', 38)]</td>\n",
       "    </tr>\n",
       "    <tr>\n",
       "      <th>2021-01-30 03:25:16</th>\n",
       "      <td>[('0', 470), ('1', 31)]</td>\n",
       "    </tr>\n",
       "    <tr>\n",
       "      <th>2021-01-30 03:25:52</th>\n",
       "      <td>[('0', 470), ('1', 31)]</td>\n",
       "    </tr>\n",
       "  </tbody>\n",
       "</table>\n",
       "</div>"
      ],
      "text/plain": [
       "                                      twitts\n",
       "hora                                        \n",
       "2021-01-30 03:23:20  [('0', 472), ('1', 29)]\n",
       "2021-01-30 03:23:59  [('0', 465), ('1', 36)]\n",
       "2021-01-30 03:24:39  [('0', 463), ('1', 38)]\n",
       "2021-01-30 03:25:16  [('0', 470), ('1', 31)]\n",
       "2021-01-30 03:25:52  [('0', 470), ('1', 31)]"
      ]
     },
     "execution_count": 12,
     "metadata": {},
     "output_type": "execute_result"
    }
   ],
   "source": [
    "df.head()"
   ]
  },
  {
   "cell_type": "code",
   "execution_count": 13,
   "metadata": {
    "scrolled": true
   },
   "outputs": [
    {
     "data": {
      "text/plain": [
       "Index(['twitts'], dtype='object')"
      ]
     },
     "execution_count": 13,
     "metadata": {},
     "output_type": "execute_result"
    }
   ],
   "source": [
    "df.columns"
   ]
  },
  {
   "cell_type": "markdown",
   "metadata": {},
   "source": [
    "![separator1](https://i.imgur.com/ZUWYTii.png)"
   ]
  },
  {
   "cell_type": "markdown",
   "metadata": {},
   "source": [
    "# Separar e limpar sujeira da coluna twitts "
   ]
  },
  {
   "cell_type": "code",
   "execution_count": 14,
   "metadata": {
    "scrolled": true
   },
   "outputs": [
    {
     "data": {
      "text/html": [
       "<div>\n",
       "<style scoped>\n",
       "    .dataframe tbody tr th:only-of-type {\n",
       "        vertical-align: middle;\n",
       "    }\n",
       "\n",
       "    .dataframe tbody tr th {\n",
       "        vertical-align: top;\n",
       "    }\n",
       "\n",
       "    .dataframe thead th {\n",
       "        text-align: right;\n",
       "    }\n",
       "</style>\n",
       "<table border=\"1\" class=\"dataframe\">\n",
       "  <thead>\n",
       "    <tr style=\"text-align: right;\">\n",
       "      <th></th>\n",
       "      <th>0</th>\n",
       "      <th>1</th>\n",
       "      <th>2</th>\n",
       "      <th>3</th>\n",
       "    </tr>\n",
       "    <tr>\n",
       "      <th>hora</th>\n",
       "      <th></th>\n",
       "      <th></th>\n",
       "      <th></th>\n",
       "      <th></th>\n",
       "    </tr>\n",
       "  </thead>\n",
       "  <tbody>\n",
       "    <tr>\n",
       "      <th>2021-01-30 03:23:20</th>\n",
       "      <td>[('0'</td>\n",
       "      <td>472)</td>\n",
       "      <td>('1'</td>\n",
       "      <td>29)]</td>\n",
       "    </tr>\n",
       "    <tr>\n",
       "      <th>2021-01-30 03:23:59</th>\n",
       "      <td>[('0'</td>\n",
       "      <td>465)</td>\n",
       "      <td>('1'</td>\n",
       "      <td>36)]</td>\n",
       "    </tr>\n",
       "    <tr>\n",
       "      <th>2021-01-30 03:24:39</th>\n",
       "      <td>[('0'</td>\n",
       "      <td>463)</td>\n",
       "      <td>('1'</td>\n",
       "      <td>38)]</td>\n",
       "    </tr>\n",
       "    <tr>\n",
       "      <th>2021-01-30 03:25:16</th>\n",
       "      <td>[('0'</td>\n",
       "      <td>470)</td>\n",
       "      <td>('1'</td>\n",
       "      <td>31)]</td>\n",
       "    </tr>\n",
       "    <tr>\n",
       "      <th>2021-01-30 03:25:52</th>\n",
       "      <td>[('0'</td>\n",
       "      <td>470)</td>\n",
       "      <td>('1'</td>\n",
       "      <td>31)]</td>\n",
       "    </tr>\n",
       "    <tr>\n",
       "      <th>2021-01-30 03:26:26</th>\n",
       "      <td>[('0'</td>\n",
       "      <td>457)</td>\n",
       "      <td>('1'</td>\n",
       "      <td>44)]</td>\n",
       "    </tr>\n",
       "    <tr>\n",
       "      <th>2021-01-30 03:27:04</th>\n",
       "      <td>[('0'</td>\n",
       "      <td>464)</td>\n",
       "      <td>('1'</td>\n",
       "      <td>37)]</td>\n",
       "    </tr>\n",
       "    <tr>\n",
       "      <th>2021-01-30 03:27:42</th>\n",
       "      <td>[('0'</td>\n",
       "      <td>474)</td>\n",
       "      <td>('1'</td>\n",
       "      <td>27)]</td>\n",
       "    </tr>\n",
       "    <tr>\n",
       "      <th>2021-01-30 03:28:20</th>\n",
       "      <td>[('0'</td>\n",
       "      <td>471)</td>\n",
       "      <td>('1'</td>\n",
       "      <td>30)]</td>\n",
       "    </tr>\n",
       "    <tr>\n",
       "      <th>2021-01-30 03:28:57</th>\n",
       "      <td>[('0'</td>\n",
       "      <td>462)</td>\n",
       "      <td>('1'</td>\n",
       "      <td>39)]</td>\n",
       "    </tr>\n",
       "    <tr>\n",
       "      <th>2021-01-30 03:29:36</th>\n",
       "      <td>[('0'</td>\n",
       "      <td>458)</td>\n",
       "      <td>('1'</td>\n",
       "      <td>43)]</td>\n",
       "    </tr>\n",
       "    <tr>\n",
       "      <th>2021-01-30 03:30:13</th>\n",
       "      <td>[('0'</td>\n",
       "      <td>468)</td>\n",
       "      <td>('1'</td>\n",
       "      <td>33)]</td>\n",
       "    </tr>\n",
       "    <tr>\n",
       "      <th>2021-01-30 03:30:53</th>\n",
       "      <td>[('0'</td>\n",
       "      <td>469)</td>\n",
       "      <td>('1'</td>\n",
       "      <td>32)]</td>\n",
       "    </tr>\n",
       "    <tr>\n",
       "      <th>2021-01-30 03:31:31</th>\n",
       "      <td>[('0'</td>\n",
       "      <td>469)</td>\n",
       "      <td>('1'</td>\n",
       "      <td>32)]</td>\n",
       "    </tr>\n",
       "    <tr>\n",
       "      <th>2021-01-30 03:32:09</th>\n",
       "      <td>[('0'</td>\n",
       "      <td>466)</td>\n",
       "      <td>('1'</td>\n",
       "      <td>35)]</td>\n",
       "    </tr>\n",
       "    <tr>\n",
       "      <th>2021-01-30 03:32:49</th>\n",
       "      <td>[('0'</td>\n",
       "      <td>463)</td>\n",
       "      <td>('1'</td>\n",
       "      <td>38)]</td>\n",
       "    </tr>\n",
       "    <tr>\n",
       "      <th>2021-01-30 03:33:28</th>\n",
       "      <td>[('1'</td>\n",
       "      <td>32)</td>\n",
       "      <td>('0'</td>\n",
       "      <td>469)]</td>\n",
       "    </tr>\n",
       "    <tr>\n",
       "      <th>2021-01-30 03:34:06</th>\n",
       "      <td>[('0'</td>\n",
       "      <td>467)</td>\n",
       "      <td>('1'</td>\n",
       "      <td>34)]</td>\n",
       "    </tr>\n",
       "    <tr>\n",
       "      <th>2021-01-30 03:34:44</th>\n",
       "      <td>[('0'</td>\n",
       "      <td>461)</td>\n",
       "      <td>('1'</td>\n",
       "      <td>40)]</td>\n",
       "    </tr>\n",
       "    <tr>\n",
       "      <th>2021-01-30 03:35:25</th>\n",
       "      <td>[('0'</td>\n",
       "      <td>463)</td>\n",
       "      <td>('1'</td>\n",
       "      <td>38)]</td>\n",
       "    </tr>\n",
       "    <tr>\n",
       "      <th>2021-01-30 03:36:01</th>\n",
       "      <td>[('0'</td>\n",
       "      <td>472)</td>\n",
       "      <td>('1'</td>\n",
       "      <td>29)]</td>\n",
       "    </tr>\n",
       "    <tr>\n",
       "      <th>2021-01-30 03:36:38</th>\n",
       "      <td>[('0'</td>\n",
       "      <td>461)</td>\n",
       "      <td>('1'</td>\n",
       "      <td>40)]</td>\n",
       "    </tr>\n",
       "    <tr>\n",
       "      <th>2021-01-30 03:37:14</th>\n",
       "      <td>[('0'</td>\n",
       "      <td>467)</td>\n",
       "      <td>('1'</td>\n",
       "      <td>34)]</td>\n",
       "    </tr>\n",
       "    <tr>\n",
       "      <th>2021-01-30 03:37:52</th>\n",
       "      <td>[('0'</td>\n",
       "      <td>466)</td>\n",
       "      <td>('1'</td>\n",
       "      <td>35)]</td>\n",
       "    </tr>\n",
       "    <tr>\n",
       "      <th>2021-01-30 03:38:29</th>\n",
       "      <td>[('0'</td>\n",
       "      <td>472)</td>\n",
       "      <td>('1'</td>\n",
       "      <td>29)]</td>\n",
       "    </tr>\n",
       "    <tr>\n",
       "      <th>2021-01-30 03:39:09</th>\n",
       "      <td>[('0'</td>\n",
       "      <td>464)</td>\n",
       "      <td>('1'</td>\n",
       "      <td>37)]</td>\n",
       "    </tr>\n",
       "    <tr>\n",
       "      <th>2021-01-30 03:39:49</th>\n",
       "      <td>[('0'</td>\n",
       "      <td>460)</td>\n",
       "      <td>('1'</td>\n",
       "      <td>41)]</td>\n",
       "    </tr>\n",
       "    <tr>\n",
       "      <th>2021-01-30 03:40:25</th>\n",
       "      <td>[('0'</td>\n",
       "      <td>473)</td>\n",
       "      <td>('1'</td>\n",
       "      <td>28)]</td>\n",
       "    </tr>\n",
       "    <tr>\n",
       "      <th>2021-01-30 03:41:03</th>\n",
       "      <td>[('1'</td>\n",
       "      <td>37)</td>\n",
       "      <td>('0'</td>\n",
       "      <td>464)]</td>\n",
       "    </tr>\n",
       "    <tr>\n",
       "      <th>2021-01-30 03:41:39</th>\n",
       "      <td>[('0'</td>\n",
       "      <td>472)</td>\n",
       "      <td>('1'</td>\n",
       "      <td>29)]</td>\n",
       "    </tr>\n",
       "    <tr>\n",
       "      <th>2021-01-30 03:42:16</th>\n",
       "      <td>[('0'</td>\n",
       "      <td>465)</td>\n",
       "      <td>('1'</td>\n",
       "      <td>36)]</td>\n",
       "    </tr>\n",
       "    <tr>\n",
       "      <th>2021-01-30 03:42:55</th>\n",
       "      <td>[('0'</td>\n",
       "      <td>472)</td>\n",
       "      <td>('1'</td>\n",
       "      <td>29)]</td>\n",
       "    </tr>\n",
       "    <tr>\n",
       "      <th>2021-01-30 03:43:30</th>\n",
       "      <td>[('0'</td>\n",
       "      <td>464)</td>\n",
       "      <td>('1'</td>\n",
       "      <td>37)]</td>\n",
       "    </tr>\n",
       "    <tr>\n",
       "      <th>2021-01-30 03:44:08</th>\n",
       "      <td>[('0'</td>\n",
       "      <td>460)</td>\n",
       "      <td>('1'</td>\n",
       "      <td>41)]</td>\n",
       "    </tr>\n",
       "    <tr>\n",
       "      <th>2021-01-30 03:44:47</th>\n",
       "      <td>[('0'</td>\n",
       "      <td>465)</td>\n",
       "      <td>('1'</td>\n",
       "      <td>36)]</td>\n",
       "    </tr>\n",
       "    <tr>\n",
       "      <th>2021-01-30 03:45:24</th>\n",
       "      <td>[('1'</td>\n",
       "      <td>34)</td>\n",
       "      <td>('0'</td>\n",
       "      <td>467)]</td>\n",
       "    </tr>\n",
       "    <tr>\n",
       "      <th>2021-01-30 03:46:03</th>\n",
       "      <td>[('0'</td>\n",
       "      <td>467)</td>\n",
       "      <td>('1'</td>\n",
       "      <td>34)]</td>\n",
       "    </tr>\n",
       "    <tr>\n",
       "      <th>2021-01-30 03:46:39</th>\n",
       "      <td>[('0'</td>\n",
       "      <td>477)</td>\n",
       "      <td>('1'</td>\n",
       "      <td>24)]</td>\n",
       "    </tr>\n",
       "    <tr>\n",
       "      <th>2021-01-30 03:47:18</th>\n",
       "      <td>[('0'</td>\n",
       "      <td>466)</td>\n",
       "      <td>('1'</td>\n",
       "      <td>35)]</td>\n",
       "    </tr>\n",
       "    <tr>\n",
       "      <th>2021-01-30 03:47:56</th>\n",
       "      <td>[('0'</td>\n",
       "      <td>471)</td>\n",
       "      <td>('1'</td>\n",
       "      <td>30)]</td>\n",
       "    </tr>\n",
       "    <tr>\n",
       "      <th>2021-01-30 03:48:35</th>\n",
       "      <td>[('0'</td>\n",
       "      <td>463)</td>\n",
       "      <td>('1'</td>\n",
       "      <td>38)]</td>\n",
       "    </tr>\n",
       "    <tr>\n",
       "      <th>2021-01-30 03:49:14</th>\n",
       "      <td>[('0'</td>\n",
       "      <td>468)</td>\n",
       "      <td>('1'</td>\n",
       "      <td>33)]</td>\n",
       "    </tr>\n",
       "    <tr>\n",
       "      <th>2021-01-30 03:49:54</th>\n",
       "      <td>[('0'</td>\n",
       "      <td>466)</td>\n",
       "      <td>('1'</td>\n",
       "      <td>35)]</td>\n",
       "    </tr>\n",
       "    <tr>\n",
       "      <th>2021-01-30 03:50:33</th>\n",
       "      <td>[('0'</td>\n",
       "      <td>462)</td>\n",
       "      <td>('1'</td>\n",
       "      <td>39)]</td>\n",
       "    </tr>\n",
       "    <tr>\n",
       "      <th>2021-01-30 03:51:10</th>\n",
       "      <td>[('0'</td>\n",
       "      <td>468)</td>\n",
       "      <td>('1'</td>\n",
       "      <td>33)]</td>\n",
       "    </tr>\n",
       "    <tr>\n",
       "      <th>2021-01-30 03:51:52</th>\n",
       "      <td>[('0'</td>\n",
       "      <td>453)</td>\n",
       "      <td>('1'</td>\n",
       "      <td>48)]</td>\n",
       "    </tr>\n",
       "    <tr>\n",
       "      <th>2021-01-30 03:52:32</th>\n",
       "      <td>[('0'</td>\n",
       "      <td>468)</td>\n",
       "      <td>('1'</td>\n",
       "      <td>33)]</td>\n",
       "    </tr>\n",
       "    <tr>\n",
       "      <th>2021-01-30 03:53:12</th>\n",
       "      <td>[('0'</td>\n",
       "      <td>472)</td>\n",
       "      <td>('1'</td>\n",
       "      <td>29)]</td>\n",
       "    </tr>\n",
       "    <tr>\n",
       "      <th>2021-01-30 03:53:49</th>\n",
       "      <td>[('0'</td>\n",
       "      <td>455)</td>\n",
       "      <td>('1'</td>\n",
       "      <td>46)]</td>\n",
       "    </tr>\n",
       "    <tr>\n",
       "      <th>2021-01-30 03:54:26</th>\n",
       "      <td>[('0'</td>\n",
       "      <td>458)</td>\n",
       "      <td>('1'</td>\n",
       "      <td>43)]</td>\n",
       "    </tr>\n",
       "    <tr>\n",
       "      <th>2021-01-30 03:55:03</th>\n",
       "      <td>[('0'</td>\n",
       "      <td>461)</td>\n",
       "      <td>('1'</td>\n",
       "      <td>40)]</td>\n",
       "    </tr>\n",
       "  </tbody>\n",
       "</table>\n",
       "</div>"
      ],
      "text/plain": [
       "                         0      1      2       3\n",
       "hora                                            \n",
       "2021-01-30 03:23:20  [('0'   472)   ('1'    29)]\n",
       "2021-01-30 03:23:59  [('0'   465)   ('1'    36)]\n",
       "2021-01-30 03:24:39  [('0'   463)   ('1'    38)]\n",
       "2021-01-30 03:25:16  [('0'   470)   ('1'    31)]\n",
       "2021-01-30 03:25:52  [('0'   470)   ('1'    31)]\n",
       "2021-01-30 03:26:26  [('0'   457)   ('1'    44)]\n",
       "2021-01-30 03:27:04  [('0'   464)   ('1'    37)]\n",
       "2021-01-30 03:27:42  [('0'   474)   ('1'    27)]\n",
       "2021-01-30 03:28:20  [('0'   471)   ('1'    30)]\n",
       "2021-01-30 03:28:57  [('0'   462)   ('1'    39)]\n",
       "2021-01-30 03:29:36  [('0'   458)   ('1'    43)]\n",
       "2021-01-30 03:30:13  [('0'   468)   ('1'    33)]\n",
       "2021-01-30 03:30:53  [('0'   469)   ('1'    32)]\n",
       "2021-01-30 03:31:31  [('0'   469)   ('1'    32)]\n",
       "2021-01-30 03:32:09  [('0'   466)   ('1'    35)]\n",
       "2021-01-30 03:32:49  [('0'   463)   ('1'    38)]\n",
       "2021-01-30 03:33:28  [('1'    32)   ('0'   469)]\n",
       "2021-01-30 03:34:06  [('0'   467)   ('1'    34)]\n",
       "2021-01-30 03:34:44  [('0'   461)   ('1'    40)]\n",
       "2021-01-30 03:35:25  [('0'   463)   ('1'    38)]\n",
       "2021-01-30 03:36:01  [('0'   472)   ('1'    29)]\n",
       "2021-01-30 03:36:38  [('0'   461)   ('1'    40)]\n",
       "2021-01-30 03:37:14  [('0'   467)   ('1'    34)]\n",
       "2021-01-30 03:37:52  [('0'   466)   ('1'    35)]\n",
       "2021-01-30 03:38:29  [('0'   472)   ('1'    29)]\n",
       "2021-01-30 03:39:09  [('0'   464)   ('1'    37)]\n",
       "2021-01-30 03:39:49  [('0'   460)   ('1'    41)]\n",
       "2021-01-30 03:40:25  [('0'   473)   ('1'    28)]\n",
       "2021-01-30 03:41:03  [('1'    37)   ('0'   464)]\n",
       "2021-01-30 03:41:39  [('0'   472)   ('1'    29)]\n",
       "2021-01-30 03:42:16  [('0'   465)   ('1'    36)]\n",
       "2021-01-30 03:42:55  [('0'   472)   ('1'    29)]\n",
       "2021-01-30 03:43:30  [('0'   464)   ('1'    37)]\n",
       "2021-01-30 03:44:08  [('0'   460)   ('1'    41)]\n",
       "2021-01-30 03:44:47  [('0'   465)   ('1'    36)]\n",
       "2021-01-30 03:45:24  [('1'    34)   ('0'   467)]\n",
       "2021-01-30 03:46:03  [('0'   467)   ('1'    34)]\n",
       "2021-01-30 03:46:39  [('0'   477)   ('1'    24)]\n",
       "2021-01-30 03:47:18  [('0'   466)   ('1'    35)]\n",
       "2021-01-30 03:47:56  [('0'   471)   ('1'    30)]\n",
       "2021-01-30 03:48:35  [('0'   463)   ('1'    38)]\n",
       "2021-01-30 03:49:14  [('0'   468)   ('1'    33)]\n",
       "2021-01-30 03:49:54  [('0'   466)   ('1'    35)]\n",
       "2021-01-30 03:50:33  [('0'   462)   ('1'    39)]\n",
       "2021-01-30 03:51:10  [('0'   468)   ('1'    33)]\n",
       "2021-01-30 03:51:52  [('0'   453)   ('1'    48)]\n",
       "2021-01-30 03:52:32  [('0'   468)   ('1'    33)]\n",
       "2021-01-30 03:53:12  [('0'   472)   ('1'    29)]\n",
       "2021-01-30 03:53:49  [('0'   455)   ('1'    46)]\n",
       "2021-01-30 03:54:26  [('0'   458)   ('1'    43)]\n",
       "2021-01-30 03:55:03  [('0'   461)   ('1'    40)]"
      ]
     },
     "execution_count": 14,
     "metadata": {},
     "output_type": "execute_result"
    }
   ],
   "source": [
    "# Split da col twitts\n",
    "df['twitts'].str.split(',', expand=True)"
   ]
  },
  {
   "cell_type": "code",
   "execution_count": 16,
   "metadata": {},
   "outputs": [],
   "source": [
    "# Colocar no df \n",
    "df = df['twitts'].str.split(',', expand=True)"
   ]
  },
  {
   "cell_type": "code",
   "execution_count": 17,
   "metadata": {},
   "outputs": [],
   "source": [
    "# Renomear cols\n",
    "df.columns = ['zero', 'um', 'dois', 'tres']"
   ]
  },
  {
   "cell_type": "code",
   "execution_count": 18,
   "metadata": {
    "scrolled": true
   },
   "outputs": [
    {
     "data": {
      "text/html": [
       "<div>\n",
       "<style scoped>\n",
       "    .dataframe tbody tr th:only-of-type {\n",
       "        vertical-align: middle;\n",
       "    }\n",
       "\n",
       "    .dataframe tbody tr th {\n",
       "        vertical-align: top;\n",
       "    }\n",
       "\n",
       "    .dataframe thead th {\n",
       "        text-align: right;\n",
       "    }\n",
       "</style>\n",
       "<table border=\"1\" class=\"dataframe\">\n",
       "  <thead>\n",
       "    <tr style=\"text-align: right;\">\n",
       "      <th></th>\n",
       "      <th>zero</th>\n",
       "      <th>um</th>\n",
       "      <th>dois</th>\n",
       "      <th>tres</th>\n",
       "    </tr>\n",
       "    <tr>\n",
       "      <th>hora</th>\n",
       "      <th></th>\n",
       "      <th></th>\n",
       "      <th></th>\n",
       "      <th></th>\n",
       "    </tr>\n",
       "  </thead>\n",
       "  <tbody>\n",
       "    <tr>\n",
       "      <th>2021-01-30 03:23:20</th>\n",
       "      <td>[('0'</td>\n",
       "      <td>472)</td>\n",
       "      <td>('1'</td>\n",
       "      <td>29)]</td>\n",
       "    </tr>\n",
       "    <tr>\n",
       "      <th>2021-01-30 03:23:59</th>\n",
       "      <td>[('0'</td>\n",
       "      <td>465)</td>\n",
       "      <td>('1'</td>\n",
       "      <td>36)]</td>\n",
       "    </tr>\n",
       "    <tr>\n",
       "      <th>2021-01-30 03:24:39</th>\n",
       "      <td>[('0'</td>\n",
       "      <td>463)</td>\n",
       "      <td>('1'</td>\n",
       "      <td>38)]</td>\n",
       "    </tr>\n",
       "    <tr>\n",
       "      <th>2021-01-30 03:25:16</th>\n",
       "      <td>[('0'</td>\n",
       "      <td>470)</td>\n",
       "      <td>('1'</td>\n",
       "      <td>31)]</td>\n",
       "    </tr>\n",
       "    <tr>\n",
       "      <th>2021-01-30 03:25:52</th>\n",
       "      <td>[('0'</td>\n",
       "      <td>470)</td>\n",
       "      <td>('1'</td>\n",
       "      <td>31)]</td>\n",
       "    </tr>\n",
       "  </tbody>\n",
       "</table>\n",
       "</div>"
      ],
      "text/plain": [
       "                      zero     um   dois   tres\n",
       "hora                                           \n",
       "2021-01-30 03:23:20  [('0'   472)   ('1'   29)]\n",
       "2021-01-30 03:23:59  [('0'   465)   ('1'   36)]\n",
       "2021-01-30 03:24:39  [('0'   463)   ('1'   38)]\n",
       "2021-01-30 03:25:16  [('0'   470)   ('1'   31)]\n",
       "2021-01-30 03:25:52  [('0'   470)   ('1'   31)]"
      ]
     },
     "execution_count": 18,
     "metadata": {},
     "output_type": "execute_result"
    }
   ],
   "source": [
    "df.head()"
   ]
  },
  {
   "cell_type": "code",
   "execution_count": 20,
   "metadata": {},
   "outputs": [],
   "source": [
    "# Fç para limpar os caracteres especiais:\n",
    "def corrigir_nomes(nome):\n",
    "    nome = nome.replace(')', '').replace(']', '')\n",
    "    return nome"
   ]
  },
  {
   "cell_type": "code",
   "execution_count": 21,
   "metadata": {},
   "outputs": [],
   "source": [
    "# Limpar a col \"um\"\n",
    "df['um'] = df['um'].apply(corrigir_nomes)\n"
   ]
  },
  {
   "cell_type": "code",
   "execution_count": 22,
   "metadata": {},
   "outputs": [
    {
     "data": {
      "text/html": [
       "<div>\n",
       "<style scoped>\n",
       "    .dataframe tbody tr th:only-of-type {\n",
       "        vertical-align: middle;\n",
       "    }\n",
       "\n",
       "    .dataframe tbody tr th {\n",
       "        vertical-align: top;\n",
       "    }\n",
       "\n",
       "    .dataframe thead th {\n",
       "        text-align: right;\n",
       "    }\n",
       "</style>\n",
       "<table border=\"1\" class=\"dataframe\">\n",
       "  <thead>\n",
       "    <tr style=\"text-align: right;\">\n",
       "      <th></th>\n",
       "      <th>zero</th>\n",
       "      <th>um</th>\n",
       "      <th>dois</th>\n",
       "      <th>tres</th>\n",
       "    </tr>\n",
       "    <tr>\n",
       "      <th>hora</th>\n",
       "      <th></th>\n",
       "      <th></th>\n",
       "      <th></th>\n",
       "      <th></th>\n",
       "    </tr>\n",
       "  </thead>\n",
       "  <tbody>\n",
       "    <tr>\n",
       "      <th>2021-01-30 03:23:20</th>\n",
       "      <td>[('0'</td>\n",
       "      <td>472</td>\n",
       "      <td>('1'</td>\n",
       "      <td>29)]</td>\n",
       "    </tr>\n",
       "    <tr>\n",
       "      <th>2021-01-30 03:23:59</th>\n",
       "      <td>[('0'</td>\n",
       "      <td>465</td>\n",
       "      <td>('1'</td>\n",
       "      <td>36)]</td>\n",
       "    </tr>\n",
       "    <tr>\n",
       "      <th>2021-01-30 03:24:39</th>\n",
       "      <td>[('0'</td>\n",
       "      <td>463</td>\n",
       "      <td>('1'</td>\n",
       "      <td>38)]</td>\n",
       "    </tr>\n",
       "    <tr>\n",
       "      <th>2021-01-30 03:25:16</th>\n",
       "      <td>[('0'</td>\n",
       "      <td>470</td>\n",
       "      <td>('1'</td>\n",
       "      <td>31)]</td>\n",
       "    </tr>\n",
       "    <tr>\n",
       "      <th>2021-01-30 03:25:52</th>\n",
       "      <td>[('0'</td>\n",
       "      <td>470</td>\n",
       "      <td>('1'</td>\n",
       "      <td>31)]</td>\n",
       "    </tr>\n",
       "  </tbody>\n",
       "</table>\n",
       "</div>"
      ],
      "text/plain": [
       "                      zero    um   dois   tres\n",
       "hora                                          \n",
       "2021-01-30 03:23:20  [('0'   472   ('1'   29)]\n",
       "2021-01-30 03:23:59  [('0'   465   ('1'   36)]\n",
       "2021-01-30 03:24:39  [('0'   463   ('1'   38)]\n",
       "2021-01-30 03:25:16  [('0'   470   ('1'   31)]\n",
       "2021-01-30 03:25:52  [('0'   470   ('1'   31)]"
      ]
     },
     "execution_count": 22,
     "metadata": {},
     "output_type": "execute_result"
    }
   ],
   "source": [
    "df.head()"
   ]
  },
  {
   "cell_type": "code",
   "execution_count": 23,
   "metadata": {},
   "outputs": [],
   "source": [
    "# Limpar a col \"tres\"\n",
    "df['tres'] = df['tres'].apply(corrigir_nomes)"
   ]
  },
  {
   "cell_type": "code",
   "execution_count": 26,
   "metadata": {
    "scrolled": true
   },
   "outputs": [
    {
     "data": {
      "text/html": [
       "<div>\n",
       "<style scoped>\n",
       "    .dataframe tbody tr th:only-of-type {\n",
       "        vertical-align: middle;\n",
       "    }\n",
       "\n",
       "    .dataframe tbody tr th {\n",
       "        vertical-align: top;\n",
       "    }\n",
       "\n",
       "    .dataframe thead th {\n",
       "        text-align: right;\n",
       "    }\n",
       "</style>\n",
       "<table border=\"1\" class=\"dataframe\">\n",
       "  <thead>\n",
       "    <tr style=\"text-align: right;\">\n",
       "      <th></th>\n",
       "      <th>zero</th>\n",
       "      <th>um</th>\n",
       "      <th>dois</th>\n",
       "      <th>tres</th>\n",
       "    </tr>\n",
       "    <tr>\n",
       "      <th>hora</th>\n",
       "      <th></th>\n",
       "      <th></th>\n",
       "      <th></th>\n",
       "      <th></th>\n",
       "    </tr>\n",
       "  </thead>\n",
       "  <tbody>\n",
       "    <tr>\n",
       "      <th>2021-01-30 03:23:20</th>\n",
       "      <td>[('0'</td>\n",
       "      <td>472</td>\n",
       "      <td>('1'</td>\n",
       "      <td>29</td>\n",
       "    </tr>\n",
       "    <tr>\n",
       "      <th>2021-01-30 03:23:59</th>\n",
       "      <td>[('0'</td>\n",
       "      <td>465</td>\n",
       "      <td>('1'</td>\n",
       "      <td>36</td>\n",
       "    </tr>\n",
       "    <tr>\n",
       "      <th>2021-01-30 03:24:39</th>\n",
       "      <td>[('0'</td>\n",
       "      <td>463</td>\n",
       "      <td>('1'</td>\n",
       "      <td>38</td>\n",
       "    </tr>\n",
       "    <tr>\n",
       "      <th>2021-01-30 03:25:16</th>\n",
       "      <td>[('0'</td>\n",
       "      <td>470</td>\n",
       "      <td>('1'</td>\n",
       "      <td>31</td>\n",
       "    </tr>\n",
       "    <tr>\n",
       "      <th>2021-01-30 03:25:52</th>\n",
       "      <td>[('0'</td>\n",
       "      <td>470</td>\n",
       "      <td>('1'</td>\n",
       "      <td>31</td>\n",
       "    </tr>\n",
       "  </tbody>\n",
       "</table>\n",
       "</div>"
      ],
      "text/plain": [
       "                      zero    um   dois tres\n",
       "hora                                        \n",
       "2021-01-30 03:23:20  [('0'   472   ('1'   29\n",
       "2021-01-30 03:23:59  [('0'   465   ('1'   36\n",
       "2021-01-30 03:24:39  [('0'   463   ('1'   38\n",
       "2021-01-30 03:25:16  [('0'   470   ('1'   31\n",
       "2021-01-30 03:25:52  [('0'   470   ('1'   31"
      ]
     },
     "execution_count": 26,
     "metadata": {},
     "output_type": "execute_result"
    }
   ],
   "source": [
    "df.head()"
   ]
  },
  {
   "cell_type": "code",
   "execution_count": 27,
   "metadata": {},
   "outputs": [],
   "source": [
    "# Excluir a col \"zero\" e aplicar ao df: \n",
    "df = df.drop(columns=['zero'])"
   ]
  },
  {
   "cell_type": "code",
   "execution_count": 28,
   "metadata": {},
   "outputs": [
    {
     "data": {
      "text/html": [
       "<div>\n",
       "<style scoped>\n",
       "    .dataframe tbody tr th:only-of-type {\n",
       "        vertical-align: middle;\n",
       "    }\n",
       "\n",
       "    .dataframe tbody tr th {\n",
       "        vertical-align: top;\n",
       "    }\n",
       "\n",
       "    .dataframe thead th {\n",
       "        text-align: right;\n",
       "    }\n",
       "</style>\n",
       "<table border=\"1\" class=\"dataframe\">\n",
       "  <thead>\n",
       "    <tr style=\"text-align: right;\">\n",
       "      <th></th>\n",
       "      <th>um</th>\n",
       "      <th>dois</th>\n",
       "      <th>tres</th>\n",
       "    </tr>\n",
       "    <tr>\n",
       "      <th>hora</th>\n",
       "      <th></th>\n",
       "      <th></th>\n",
       "      <th></th>\n",
       "    </tr>\n",
       "  </thead>\n",
       "  <tbody>\n",
       "    <tr>\n",
       "      <th>2021-01-30 03:23:20</th>\n",
       "      <td>472</td>\n",
       "      <td>('1'</td>\n",
       "      <td>29</td>\n",
       "    </tr>\n",
       "    <tr>\n",
       "      <th>2021-01-30 03:23:59</th>\n",
       "      <td>465</td>\n",
       "      <td>('1'</td>\n",
       "      <td>36</td>\n",
       "    </tr>\n",
       "    <tr>\n",
       "      <th>2021-01-30 03:24:39</th>\n",
       "      <td>463</td>\n",
       "      <td>('1'</td>\n",
       "      <td>38</td>\n",
       "    </tr>\n",
       "    <tr>\n",
       "      <th>2021-01-30 03:25:16</th>\n",
       "      <td>470</td>\n",
       "      <td>('1'</td>\n",
       "      <td>31</td>\n",
       "    </tr>\n",
       "    <tr>\n",
       "      <th>2021-01-30 03:25:52</th>\n",
       "      <td>470</td>\n",
       "      <td>('1'</td>\n",
       "      <td>31</td>\n",
       "    </tr>\n",
       "  </tbody>\n",
       "</table>\n",
       "</div>"
      ],
      "text/plain": [
       "                       um   dois tres\n",
       "hora                                 \n",
       "2021-01-30 03:23:20   472   ('1'   29\n",
       "2021-01-30 03:23:59   465   ('1'   36\n",
       "2021-01-30 03:24:39   463   ('1'   38\n",
       "2021-01-30 03:25:16   470   ('1'   31\n",
       "2021-01-30 03:25:52   470   ('1'   31"
      ]
     },
     "execution_count": 28,
     "metadata": {},
     "output_type": "execute_result"
    }
   ],
   "source": [
    "df.head()"
   ]
  },
  {
   "cell_type": "code",
   "execution_count": 29,
   "metadata": {},
   "outputs": [],
   "source": [
    "# Excluir a col \"dois\" e aplicar ao df: \n",
    "df = df.drop(columns=['dois'])"
   ]
  },
  {
   "cell_type": "code",
   "execution_count": 30,
   "metadata": {},
   "outputs": [
    {
     "data": {
      "text/html": [
       "<div>\n",
       "<style scoped>\n",
       "    .dataframe tbody tr th:only-of-type {\n",
       "        vertical-align: middle;\n",
       "    }\n",
       "\n",
       "    .dataframe tbody tr th {\n",
       "        vertical-align: top;\n",
       "    }\n",
       "\n",
       "    .dataframe thead th {\n",
       "        text-align: right;\n",
       "    }\n",
       "</style>\n",
       "<table border=\"1\" class=\"dataframe\">\n",
       "  <thead>\n",
       "    <tr style=\"text-align: right;\">\n",
       "      <th></th>\n",
       "      <th>um</th>\n",
       "      <th>tres</th>\n",
       "    </tr>\n",
       "    <tr>\n",
       "      <th>hora</th>\n",
       "      <th></th>\n",
       "      <th></th>\n",
       "    </tr>\n",
       "  </thead>\n",
       "  <tbody>\n",
       "    <tr>\n",
       "      <th>2021-01-30 03:23:20</th>\n",
       "      <td>472</td>\n",
       "      <td>29</td>\n",
       "    </tr>\n",
       "    <tr>\n",
       "      <th>2021-01-30 03:23:59</th>\n",
       "      <td>465</td>\n",
       "      <td>36</td>\n",
       "    </tr>\n",
       "    <tr>\n",
       "      <th>2021-01-30 03:24:39</th>\n",
       "      <td>463</td>\n",
       "      <td>38</td>\n",
       "    </tr>\n",
       "    <tr>\n",
       "      <th>2021-01-30 03:25:16</th>\n",
       "      <td>470</td>\n",
       "      <td>31</td>\n",
       "    </tr>\n",
       "    <tr>\n",
       "      <th>2021-01-30 03:25:52</th>\n",
       "      <td>470</td>\n",
       "      <td>31</td>\n",
       "    </tr>\n",
       "  </tbody>\n",
       "</table>\n",
       "</div>"
      ],
      "text/plain": [
       "                       um tres\n",
       "hora                          \n",
       "2021-01-30 03:23:20   472   29\n",
       "2021-01-30 03:23:59   465   36\n",
       "2021-01-30 03:24:39   463   38\n",
       "2021-01-30 03:25:16   470   31\n",
       "2021-01-30 03:25:52   470   31"
      ]
     },
     "execution_count": 30,
     "metadata": {},
     "output_type": "execute_result"
    }
   ],
   "source": [
    "df.head()"
   ]
  },
  {
   "cell_type": "markdown",
   "metadata": {},
   "source": [
    "![separator1](https://i.imgur.com/ZUWYTii.png)"
   ]
  },
  {
   "cell_type": "markdown",
   "metadata": {},
   "source": [
    "# Transformar as colunas em numérico "
   ]
  },
  {
   "cell_type": "code",
   "execution_count": 31,
   "metadata": {},
   "outputs": [
    {
     "data": {
      "text/plain": [
       "Index(['um', 'tres'], dtype='object')"
      ]
     },
     "execution_count": 31,
     "metadata": {},
     "output_type": "execute_result"
    }
   ],
   "source": [
    "df.columns"
   ]
  },
  {
   "cell_type": "code",
   "execution_count": 32,
   "metadata": {
    "scrolled": true
   },
   "outputs": [
    {
     "data": {
      "text/plain": [
       "um      object\n",
       "tres    object\n",
       "dtype: object"
      ]
     },
     "execution_count": 32,
     "metadata": {},
     "output_type": "execute_result"
    }
   ],
   "source": [
    "df.dtypes"
   ]
  },
  {
   "cell_type": "code",
   "execution_count": 36,
   "metadata": {},
   "outputs": [
    {
     "data": {
      "text/plain": [
       "hora\n",
       "2021-01-30 03:23:20    472\n",
       "2021-01-30 03:23:59    465\n",
       "2021-01-30 03:24:39    463\n",
       "2021-01-30 03:25:16    470\n",
       "2021-01-30 03:25:52    470\n",
       "Name: um, dtype: int64"
      ]
     },
     "execution_count": 36,
     "metadata": {},
     "output_type": "execute_result"
    }
   ],
   "source": [
    "# Transf col em numerico col \"um\"\n",
    "pd.to_numeric(df['um']).head()"
   ]
  },
  {
   "cell_type": "code",
   "execution_count": 38,
   "metadata": {},
   "outputs": [],
   "source": [
    "# Put on df:\n",
    "df['um'] = pd.to_numeric(df['um'])"
   ]
  },
  {
   "cell_type": "code",
   "execution_count": 39,
   "metadata": {},
   "outputs": [
    {
     "data": {
      "text/plain": [
       "um       int64\n",
       "tres    object\n",
       "dtype: object"
      ]
     },
     "execution_count": 39,
     "metadata": {},
     "output_type": "execute_result"
    }
   ],
   "source": [
    "df.dtypes"
   ]
  },
  {
   "cell_type": "code",
   "execution_count": 40,
   "metadata": {},
   "outputs": [
    {
     "data": {
      "text/plain": [
       "hora\n",
       "2021-01-30 03:23:20    29\n",
       "2021-01-30 03:23:59    36\n",
       "2021-01-30 03:24:39    38\n",
       "2021-01-30 03:25:16    31\n",
       "2021-01-30 03:25:52    31\n",
       "Name: tres, dtype: int64"
      ]
     },
     "execution_count": 40,
     "metadata": {},
     "output_type": "execute_result"
    }
   ],
   "source": [
    "# Transf col em numerico col \"um\"\n",
    "pd.to_numeric(df['tres']).head()"
   ]
  },
  {
   "cell_type": "code",
   "execution_count": 41,
   "metadata": {},
   "outputs": [],
   "source": [
    "# Put on df:\n",
    "df['tres'] = pd.to_numeric(df['tres'])"
   ]
  },
  {
   "cell_type": "code",
   "execution_count": 42,
   "metadata": {},
   "outputs": [
    {
     "data": {
      "text/plain": [
       "um      int64\n",
       "tres    int64\n",
       "dtype: object"
      ]
     },
     "execution_count": 42,
     "metadata": {},
     "output_type": "execute_result"
    }
   ],
   "source": [
    "df.dtypes"
   ]
  },
  {
   "cell_type": "code",
   "execution_count": 46,
   "metadata": {
    "scrolled": true
   },
   "outputs": [
    {
     "data": {
      "text/html": [
       "<div>\n",
       "<style scoped>\n",
       "    .dataframe tbody tr th:only-of-type {\n",
       "        vertical-align: middle;\n",
       "    }\n",
       "\n",
       "    .dataframe tbody tr th {\n",
       "        vertical-align: top;\n",
       "    }\n",
       "\n",
       "    .dataframe thead th {\n",
       "        text-align: right;\n",
       "    }\n",
       "</style>\n",
       "<table border=\"1\" class=\"dataframe\">\n",
       "  <thead>\n",
       "    <tr style=\"text-align: right;\">\n",
       "      <th></th>\n",
       "      <th>um</th>\n",
       "      <th>tres</th>\n",
       "    </tr>\n",
       "    <tr>\n",
       "      <th>hora</th>\n",
       "      <th></th>\n",
       "      <th></th>\n",
       "    </tr>\n",
       "  </thead>\n",
       "  <tbody>\n",
       "    <tr>\n",
       "      <th>2021-01-30 03:23:20</th>\n",
       "      <td>472</td>\n",
       "      <td>29</td>\n",
       "    </tr>\n",
       "    <tr>\n",
       "      <th>2021-01-30 03:23:59</th>\n",
       "      <td>465</td>\n",
       "      <td>36</td>\n",
       "    </tr>\n",
       "    <tr>\n",
       "      <th>2021-01-30 03:24:39</th>\n",
       "      <td>463</td>\n",
       "      <td>38</td>\n",
       "    </tr>\n",
       "    <tr>\n",
       "      <th>2021-01-30 03:25:16</th>\n",
       "      <td>470</td>\n",
       "      <td>31</td>\n",
       "    </tr>\n",
       "    <tr>\n",
       "      <th>2021-01-30 03:25:52</th>\n",
       "      <td>470</td>\n",
       "      <td>31</td>\n",
       "    </tr>\n",
       "    <tr>\n",
       "      <th>2021-01-30 03:26:26</th>\n",
       "      <td>457</td>\n",
       "      <td>44</td>\n",
       "    </tr>\n",
       "    <tr>\n",
       "      <th>2021-01-30 03:27:04</th>\n",
       "      <td>464</td>\n",
       "      <td>37</td>\n",
       "    </tr>\n",
       "    <tr>\n",
       "      <th>2021-01-30 03:27:42</th>\n",
       "      <td>474</td>\n",
       "      <td>27</td>\n",
       "    </tr>\n",
       "    <tr>\n",
       "      <th>2021-01-30 03:28:20</th>\n",
       "      <td>471</td>\n",
       "      <td>30</td>\n",
       "    </tr>\n",
       "    <tr>\n",
       "      <th>2021-01-30 03:28:57</th>\n",
       "      <td>462</td>\n",
       "      <td>39</td>\n",
       "    </tr>\n",
       "    <tr>\n",
       "      <th>2021-01-30 03:29:36</th>\n",
       "      <td>458</td>\n",
       "      <td>43</td>\n",
       "    </tr>\n",
       "    <tr>\n",
       "      <th>2021-01-30 03:30:13</th>\n",
       "      <td>468</td>\n",
       "      <td>33</td>\n",
       "    </tr>\n",
       "    <tr>\n",
       "      <th>2021-01-30 03:30:53</th>\n",
       "      <td>469</td>\n",
       "      <td>32</td>\n",
       "    </tr>\n",
       "    <tr>\n",
       "      <th>2021-01-30 03:31:31</th>\n",
       "      <td>469</td>\n",
       "      <td>32</td>\n",
       "    </tr>\n",
       "    <tr>\n",
       "      <th>2021-01-30 03:32:09</th>\n",
       "      <td>466</td>\n",
       "      <td>35</td>\n",
       "    </tr>\n",
       "    <tr>\n",
       "      <th>2021-01-30 03:32:49</th>\n",
       "      <td>463</td>\n",
       "      <td>38</td>\n",
       "    </tr>\n",
       "    <tr>\n",
       "      <th>2021-01-30 03:33:28</th>\n",
       "      <td>32</td>\n",
       "      <td>469</td>\n",
       "    </tr>\n",
       "    <tr>\n",
       "      <th>2021-01-30 03:34:06</th>\n",
       "      <td>467</td>\n",
       "      <td>34</td>\n",
       "    </tr>\n",
       "    <tr>\n",
       "      <th>2021-01-30 03:34:44</th>\n",
       "      <td>461</td>\n",
       "      <td>40</td>\n",
       "    </tr>\n",
       "    <tr>\n",
       "      <th>2021-01-30 03:35:25</th>\n",
       "      <td>463</td>\n",
       "      <td>38</td>\n",
       "    </tr>\n",
       "    <tr>\n",
       "      <th>2021-01-30 03:36:01</th>\n",
       "      <td>472</td>\n",
       "      <td>29</td>\n",
       "    </tr>\n",
       "    <tr>\n",
       "      <th>2021-01-30 03:36:38</th>\n",
       "      <td>461</td>\n",
       "      <td>40</td>\n",
       "    </tr>\n",
       "    <tr>\n",
       "      <th>2021-01-30 03:37:14</th>\n",
       "      <td>467</td>\n",
       "      <td>34</td>\n",
       "    </tr>\n",
       "    <tr>\n",
       "      <th>2021-01-30 03:37:52</th>\n",
       "      <td>466</td>\n",
       "      <td>35</td>\n",
       "    </tr>\n",
       "    <tr>\n",
       "      <th>2021-01-30 03:38:29</th>\n",
       "      <td>472</td>\n",
       "      <td>29</td>\n",
       "    </tr>\n",
       "    <tr>\n",
       "      <th>2021-01-30 03:39:09</th>\n",
       "      <td>464</td>\n",
       "      <td>37</td>\n",
       "    </tr>\n",
       "    <tr>\n",
       "      <th>2021-01-30 03:39:49</th>\n",
       "      <td>460</td>\n",
       "      <td>41</td>\n",
       "    </tr>\n",
       "    <tr>\n",
       "      <th>2021-01-30 03:40:25</th>\n",
       "      <td>473</td>\n",
       "      <td>28</td>\n",
       "    </tr>\n",
       "    <tr>\n",
       "      <th>2021-01-30 03:41:03</th>\n",
       "      <td>37</td>\n",
       "      <td>464</td>\n",
       "    </tr>\n",
       "    <tr>\n",
       "      <th>2021-01-30 03:41:39</th>\n",
       "      <td>472</td>\n",
       "      <td>29</td>\n",
       "    </tr>\n",
       "    <tr>\n",
       "      <th>2021-01-30 03:42:16</th>\n",
       "      <td>465</td>\n",
       "      <td>36</td>\n",
       "    </tr>\n",
       "    <tr>\n",
       "      <th>2021-01-30 03:42:55</th>\n",
       "      <td>472</td>\n",
       "      <td>29</td>\n",
       "    </tr>\n",
       "    <tr>\n",
       "      <th>2021-01-30 03:43:30</th>\n",
       "      <td>464</td>\n",
       "      <td>37</td>\n",
       "    </tr>\n",
       "    <tr>\n",
       "      <th>2021-01-30 03:44:08</th>\n",
       "      <td>460</td>\n",
       "      <td>41</td>\n",
       "    </tr>\n",
       "    <tr>\n",
       "      <th>2021-01-30 03:44:47</th>\n",
       "      <td>465</td>\n",
       "      <td>36</td>\n",
       "    </tr>\n",
       "    <tr>\n",
       "      <th>2021-01-30 03:45:24</th>\n",
       "      <td>34</td>\n",
       "      <td>467</td>\n",
       "    </tr>\n",
       "    <tr>\n",
       "      <th>2021-01-30 03:46:03</th>\n",
       "      <td>467</td>\n",
       "      <td>34</td>\n",
       "    </tr>\n",
       "    <tr>\n",
       "      <th>2021-01-30 03:46:39</th>\n",
       "      <td>477</td>\n",
       "      <td>24</td>\n",
       "    </tr>\n",
       "    <tr>\n",
       "      <th>2021-01-30 03:47:18</th>\n",
       "      <td>466</td>\n",
       "      <td>35</td>\n",
       "    </tr>\n",
       "    <tr>\n",
       "      <th>2021-01-30 03:47:56</th>\n",
       "      <td>471</td>\n",
       "      <td>30</td>\n",
       "    </tr>\n",
       "    <tr>\n",
       "      <th>2021-01-30 03:48:35</th>\n",
       "      <td>463</td>\n",
       "      <td>38</td>\n",
       "    </tr>\n",
       "    <tr>\n",
       "      <th>2021-01-30 03:49:14</th>\n",
       "      <td>468</td>\n",
       "      <td>33</td>\n",
       "    </tr>\n",
       "    <tr>\n",
       "      <th>2021-01-30 03:49:54</th>\n",
       "      <td>466</td>\n",
       "      <td>35</td>\n",
       "    </tr>\n",
       "    <tr>\n",
       "      <th>2021-01-30 03:50:33</th>\n",
       "      <td>462</td>\n",
       "      <td>39</td>\n",
       "    </tr>\n",
       "    <tr>\n",
       "      <th>2021-01-30 03:51:10</th>\n",
       "      <td>468</td>\n",
       "      <td>33</td>\n",
       "    </tr>\n",
       "    <tr>\n",
       "      <th>2021-01-30 03:51:52</th>\n",
       "      <td>453</td>\n",
       "      <td>48</td>\n",
       "    </tr>\n",
       "    <tr>\n",
       "      <th>2021-01-30 03:52:32</th>\n",
       "      <td>468</td>\n",
       "      <td>33</td>\n",
       "    </tr>\n",
       "    <tr>\n",
       "      <th>2021-01-30 03:53:12</th>\n",
       "      <td>472</td>\n",
       "      <td>29</td>\n",
       "    </tr>\n",
       "    <tr>\n",
       "      <th>2021-01-30 03:53:49</th>\n",
       "      <td>455</td>\n",
       "      <td>46</td>\n",
       "    </tr>\n",
       "    <tr>\n",
       "      <th>2021-01-30 03:54:26</th>\n",
       "      <td>458</td>\n",
       "      <td>43</td>\n",
       "    </tr>\n",
       "    <tr>\n",
       "      <th>2021-01-30 03:55:03</th>\n",
       "      <td>461</td>\n",
       "      <td>40</td>\n",
       "    </tr>\n",
       "  </tbody>\n",
       "</table>\n",
       "</div>"
      ],
      "text/plain": [
       "                      um  tres\n",
       "hora                          \n",
       "2021-01-30 03:23:20  472    29\n",
       "2021-01-30 03:23:59  465    36\n",
       "2021-01-30 03:24:39  463    38\n",
       "2021-01-30 03:25:16  470    31\n",
       "2021-01-30 03:25:52  470    31\n",
       "2021-01-30 03:26:26  457    44\n",
       "2021-01-30 03:27:04  464    37\n",
       "2021-01-30 03:27:42  474    27\n",
       "2021-01-30 03:28:20  471    30\n",
       "2021-01-30 03:28:57  462    39\n",
       "2021-01-30 03:29:36  458    43\n",
       "2021-01-30 03:30:13  468    33\n",
       "2021-01-30 03:30:53  469    32\n",
       "2021-01-30 03:31:31  469    32\n",
       "2021-01-30 03:32:09  466    35\n",
       "2021-01-30 03:32:49  463    38\n",
       "2021-01-30 03:33:28   32   469\n",
       "2021-01-30 03:34:06  467    34\n",
       "2021-01-30 03:34:44  461    40\n",
       "2021-01-30 03:35:25  463    38\n",
       "2021-01-30 03:36:01  472    29\n",
       "2021-01-30 03:36:38  461    40\n",
       "2021-01-30 03:37:14  467    34\n",
       "2021-01-30 03:37:52  466    35\n",
       "2021-01-30 03:38:29  472    29\n",
       "2021-01-30 03:39:09  464    37\n",
       "2021-01-30 03:39:49  460    41\n",
       "2021-01-30 03:40:25  473    28\n",
       "2021-01-30 03:41:03   37   464\n",
       "2021-01-30 03:41:39  472    29\n",
       "2021-01-30 03:42:16  465    36\n",
       "2021-01-30 03:42:55  472    29\n",
       "2021-01-30 03:43:30  464    37\n",
       "2021-01-30 03:44:08  460    41\n",
       "2021-01-30 03:44:47  465    36\n",
       "2021-01-30 03:45:24   34   467\n",
       "2021-01-30 03:46:03  467    34\n",
       "2021-01-30 03:46:39  477    24\n",
       "2021-01-30 03:47:18  466    35\n",
       "2021-01-30 03:47:56  471    30\n",
       "2021-01-30 03:48:35  463    38\n",
       "2021-01-30 03:49:14  468    33\n",
       "2021-01-30 03:49:54  466    35\n",
       "2021-01-30 03:50:33  462    39\n",
       "2021-01-30 03:51:10  468    33\n",
       "2021-01-30 03:51:52  453    48\n",
       "2021-01-30 03:52:32  468    33\n",
       "2021-01-30 03:53:12  472    29\n",
       "2021-01-30 03:53:49  455    46\n",
       "2021-01-30 03:54:26  458    43\n",
       "2021-01-30 03:55:03  461    40"
      ]
     },
     "execution_count": 46,
     "metadata": {},
     "output_type": "execute_result"
    }
   ],
   "source": [
    "df"
   ]
  },
  {
   "cell_type": "markdown",
   "metadata": {},
   "source": [
    "![separator1](https://i.imgur.com/ZUWYTii.png)"
   ]
  },
  {
   "cell_type": "markdown",
   "metadata": {},
   "source": [
    "# Visualização"
   ]
  },
  {
   "cell_type": "code",
   "execution_count": null,
   "metadata": {},
   "outputs": [],
   "source": []
  }
 ],
 "metadata": {
  "kernelspec": {
   "display_name": "Python 3",
   "language": "python",
   "name": "python3"
  },
  "language_info": {
   "codemirror_mode": {
    "name": "ipython",
    "version": 3
   },
   "file_extension": ".py",
   "mimetype": "text/x-python",
   "name": "python",
   "nbconvert_exporter": "python",
   "pygments_lexer": "ipython3",
   "version": "3.7.6"
  }
 },
 "nbformat": 4,
 "nbformat_minor": 4
}
