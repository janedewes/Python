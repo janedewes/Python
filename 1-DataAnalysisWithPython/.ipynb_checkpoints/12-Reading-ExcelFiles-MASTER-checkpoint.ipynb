{
 "cells": [
  {
   "cell_type": "markdown",
   "metadata": {},
   "source": [
    "\n",
    "# Reading Excel files\n",
    "\n",
    "How to read Excel files (.xlsx) and its sheets into a pandas `DataFrame`s, and how to export that `DataFrame`s to different sheets and Excel files using the pandas `ExcelWriter` and `to_excel` methods."
   ]
  },
  {
   "cell_type": "markdown",
   "metadata": {},
   "source": [
    "![purple-divider](https://user-images.githubusercontent.com/7065401/52071927-c1cd7100-2562-11e9-908a-dde91ba14e59.png)\n"
   ]
  },
  {
   "cell_type": "code",
   "execution_count": 1,
   "metadata": {},
   "outputs": [],
   "source": [
    "import pandas as pd"
   ]
  },
  {
   "cell_type": "code",
   "execution_count": 3,
   "metadata": {
    "scrolled": true
   },
   "outputs": [
    {
     "name": "stdout",
     "output_type": "stream",
     "text": [
      "PK\u0003\u0004\u0014\u0000\u0006\u0000\b\u0000\u0000\u0000!\u0000ß±_\b�\u0001\u0000\u0000 \u0007\u0000\u0000\u0013\u0000\b\u0002[Content_Types].xml ¢\u0004\u0002( \u0000\u0002\u0000\u0000\u0000\u0000\u0000\u0000\u0000\u0000\u0000\u0000\u0000\u0000\u0000\u0000\u0000\u0000\u0000\u0000\u0000\u0000\u0000\u0000\u0000\u0000\u0000\u0000\u0000\u0000\u0000\u0000\u0000\u0000\u0000\u0000\u0000\u0000\u0000\u0000\u0000\u0000\u0000\u0000\u0000\u0000\u0000\u0000\u0000\u0000\u0000\u0000\u0000\u0000\u0000\u0000\u0000\u0000\u0000\u0000\u0000\u0000\u0000\u0000\u0000\u0000\u0000\u0000\u0000\u0000\u0000\u0000\u0000\u0000\u0000\u0000\u0000\u0000\u0000\u0000\u0000\u0000\u0000\u0000\u0000\u0000\u0000\u0000\u0000\u0000\u0000\u0000\u0000\u0000\u0000\u0000\u0000\u0000\u0000\u0000\u0000\u0000\u0000\u0000\u0000\u0000\u0000\u0000\u0000\u0000\u0000\u0000\u0000\u0000\u0000\u0000\u0000\u0000\u0000\u0000\u0000\u0000\u0000\u0000\u0000\u0000\u0000\u0000\u0000\u0000\u0000\u0000\u0000\u0000\u0000\u0000\u0000\u0000\u0000\u0000\u0000\u0000\u0000\u0000\u0000\u0000\u0000\u0000\u0000\u0000\u0000\u0000\u0000\u0000\u0000\u0000\u0000\u0000\u0000\u0000\u0000\u0000\u0000\u0000\u0000\u0000\u0000\u0000\u0000\u0000\u0000\u0000\u0000\u0000\u0000\u0000\u0000\u0000\u0000\u0000\u0000\u0000\u0000\u0000\u0000\u0000\u0000\u0000\u0000\u0000\u0000\u0000\u0000\u0000\u0000\u0000\u0000\u0000\u0000\u0000\u0000\u0000\u0000\u0000\u0000\u0000\u0000\u0000\u0000\u0000\u0000\u0000\u0000\u0000\u0000\u0000\u0000\u0000\u0000\u0000\u0000\u0000\u0000\u0000\u0000\u0000\u0000\u0000\u0000\u0000\u0000\u0000\u0000\u0000\u0000\u0000\u0000\u0000\u0000\u0000\u0000\u0000\u0000\u0000\u0000\u0000\u0000\u0000\u0000\u0000\u0000\u0000\u0000\u0000\u0000\u0000\u0000\u0000\u0000\u0000\u0000\u0000\u0000\u0000\u0000\u0000\u0000\u0000\u0000\u0000\u0000\u0000\u0000\u0000\u0000\u0000\u0000\u0000\u0000\u0000\u0000\u0000\u0000\u0000\u0000\u0000\u0000\u0000\u0000\u0000\u0000\u0000\u0000\u0000\u0000\u0000\u0000\u0000\u0000\u0000\u0000\u0000\u0000\u0000\u0000\u0000\u0000\u0000\u0000\u0000\u0000\u0000\u0000\u0000\u0000\u0000\u0000\u0000\u0000\u0000\u0000\u0000\u0000\u0000\u0000\u0000\u0000\u0000\u0000\u0000\u0000\u0000\u0000\u0000\u0000\u0000\u0000\u0000\u0000\u0000\u0000\u0000\u0000\u0000\u0000\u0000\u0000\u0000\u0000\u0000\u0000\u0000\u0000\u0000\u0000\u0000\u0000\u0000\u0000\u0000\u0000\u0000\u0000\u0000\u0000\u0000\u0000\u0000\u0000\u0000\u0000\u0000\u0000\u0000\u0000\u0000\u0000\u0000\u0000\u0000\u0000\u0000\u0000\u0000\u0000\u0000\u0000\u0000\u0000\u0000\u0000\u0000\u0000\u0000\u0000\u0000\u0000\u0000\u0000\u0000\u0000\u0000\u0000\u0000\u0000\u0000\u0000\u0000\u0000\u0000\u0000\u0000\u0000\u0000\u0000\u0000\u0000\u0000\u0000\u0000\u0000\u0000\u0000\u0000\u0000\u0000\u0000\u0000\u0000\u0000\u0000\u0000\u0000\u0000\u0000\u0000\u0000\u0000\u0000\u0000\u0000\u0000\u0000\u0000\u0000\u0000\u0000\u0000\u0000\u0000\u0000\u0000\u0000\u0000\u0000\u0000\u0000\u0000\u0000\u0000\u0000\u0000\u0000\u0000\u0000\u0000\u0000\u0000\u0000\u0000\u0000\u0000\u0000\u0000\u0000\u0000\u0000\u0000\u0000\u0000\u0000\u0000\u0000\u0000\u0000\u0000\u0000\u0000\u0000\u0000\u0000\u0000\u0000\u0000\u0000\u0000\u0000\u0000\u0000\u0000\u0000\u0000\u0000\u0000\u0000\u0000\u0000\u0000\u0000\u0000\u0000\u0000\u0000\u0000ÌUËjÃ0\u0010¼\u0017ú\u000fF×b+I¡”\u0012'‡>Žm é\u0007(Ö:\u0016±%!mÒäï»V\u001e",
      "”âÆ˜\u0018Ú‹\u0017KÚ™ñj=;žn«2Ú€óÊè”\n",
      "“\u0001‹@gF*½LÙÇü%¾g‘G¡¥(�†”íÀ³éäúj<ßYð\u0011ekŸ²\u0002Ñ>pî³\u0002*á\u0013cAÓNn\\%�^Ý’[‘­Ä\u0012øh0¸ã™Ñ\b\u001ac¬1Ødü\u0004¹X—\u0018=oiy¯ÄAéYô¸?Xs¥LX[ªL )å\u001b-°Ä\u0007†„2Ã\u0019_(ëoH\u0006ã�\f",
      "õÎï\u0004‡¼7*�S\u0012¢™pø**’Á·%ÿ4nµ0f•œ\u0007iPiò\\e M¶®¨\u0002‰·\u000e„ô\u0005\u0000Ve\u0012bR\t¥�ºÏð‡Ãž‡0ìYHý}\u0001¸£ŽÑ?ÑqûG:�ú\u001fxx^~%\u0001¦å\u0002<îJð}·a\u0000mc.„\u0003ùŽŽœ¢w\u0001ß±[t XP\u0005x\b}ÿ\u0006\u0001´\u0003ßíß•¿ï¶oå'\u001f›9c=9ºƒî]x´ì:;¶\u0004\u0004\u000e\u0015œL»ÉüNŒ4\n",
      ".n{¨ç�\u0004ÙÀÍÃ|›|\u0001\u0000\u0000ÿÿ\u0003\u0000PK\u0003\u0004\u0014\u0000\u0006\u0000\b\u0000\u0000\u0000!\u0000µU0#ô\u0000\u0000\u0000L\u0002\u0000\u0000\u000b",
      "\u0000\b\u0002_rels/.rels ¢\u0004\u0002( \u0000\u0002\u0000\u0000\u0000\u0000\u0000\u0000\u0000\u0000\u0000\u0000\u0000\u0000\u0000\u0000\u0000\u0000\u0000\u0000\u0000\u0000\u0000\u0000\u0000\u0000\u0000\u0000\u0000\u0000\u0000\u0000\u0000\u0000\u0000\u0000\u0000\u0000\u0000\u0000\u0000\u0000\u0000\u0000\u0000\u0000\u0000\u0000\u0000\u0000\u0000\u0000\u0000\u0000\u0000\u0000\u0000\u0000\u0000\u0000\u0000\u0000\u0000\u0000\u0000\u0000\u0000\u0000\u0000\u0000\u0000\u0000\u0000\u0000\u0000\u0000\u0000\u0000\u0000\u0000\u0000\u0000\u0000\u0000\u0000\u0000\u0000\u0000\u0000\u0000\u0000\u0000\u0000\u0000\u0000\u0000\u0000\u0000\u0000\u0000\u0000\u0000\u0000\u0000\u0000\u0000\u0000\u0000\u0000\u0000\u0000\u0000\u0000\u0000\u0000\u0000\u0000\u0000\u0000\u0000\u0000\u0000\u0000\u0000\u0000\u0000\u0000\u0000\u0000\u0000\u0000\u0000\u0000\u0000\u0000\u0000\u0000\u0000\u0000\u0000\u0000\u0000\u0000\u0000\u0000\u0000\u0000\u0000\u0000\u0000\u0000\u0000\u0000\u0000\u0000\u0000\u0000\u0000\u0000\u0000\u0000\u0000\u0000\u0000\u0000\u0000\u0000\u0000\u0000\u0000\u0000\u0000\u0000\u0000\u0000\u0000\u0000\u0000\u0000\u0000\u0000\u0000\u0000\u0000\u0000\u0000\u0000\u0000\u0000\u0000\u0000\u0000\u0000\u0000\u0000\u0000\u0000\u0000\u0000\u0000\u0000\u0000\u0000\u0000\u0000\u0000\u0000\u0000\u0000\u0000\u0000\u0000\u0000\u0000\u0000\u0000\u0000\u0000\u0000\u0000\u0000\u0000\u0000\u0000\u0000\u0000\u0000\u0000\u0000\u0000\u0000\u0000\u0000\u0000\u0000\u0000\u0000\u0000\u0000\u0000\u0000\u0000\u0000\u0000\u0000\u0000\u0000\u0000\u0000\u0000\u0000\u0000\u0000\u0000\u0000\u0000\u0000\u0000\u0000\u0000\u0000\u0000\u0000\u0000\u0000\u0000\u0000\u0000\u0000\u0000\u0000\u0000\u0000\u0000\u0000\u0000\u0000\u0000\u0000\u0000\u0000\u0000\u0000\u0000\u0000\u0000\u0000\u0000\u0000\u0000\u0000\u0000\u0000\u0000\u0000\u0000\u0000\u0000\u0000\u0000\u0000\u0000\u0000\u0000\u0000\u0000\u0000\u0000\u0000\u0000\u0000\u0000\u0000\u0000\u0000\u0000\u0000\u0000\u0000\u0000\u0000\u0000\u0000\u0000\u0000\u0000\u0000\u0000\u0000\u0000\u0000\u0000\u0000\u0000\u0000\u0000\u0000\u0000\u0000\u0000\u0000\u0000\u0000\u0000\u0000\u0000\u0000\u0000\u0000\u0000\u0000\u0000\u0000\u0000\u0000\u0000\u0000\u0000\u0000\u0000\u0000\u0000\u0000\u0000\u0000\u0000\u0000\u0000\u0000\u0000\u0000\u0000\u0000\u0000\u0000\u0000\u0000\u0000\u0000\u0000\u0000\u0000\u0000\u0000\u0000\u0000\u0000\u0000\u0000\u0000\u0000\u0000\u0000\u0000\u0000\u0000\u0000\u0000\u0000\u0000\u0000\u0000\u0000\u0000\u0000\u0000\u0000\u0000\u0000\u0000\u0000\u0000\u0000\u0000\u0000\u0000\u0000\u0000\u0000\u0000\u0000\u0000\u0000\u0000\u0000\u0000\u0000\u0000\u0000\u0000\u0000\u0000\u0000\u0000\u0000\u0000\u0000\u0000\u0000\u0000\u0000\u0000\u0000\u0000\u0000\u0000\u0000\u0000\u0000\u0000\u0000\u0000\u0000\u0000\u0000\u0000\u0000\u0000\u0000\u0000\u0000\u0000\u0000\u0000\u0000\u0000\u0000\u0000\u0000\u0000\u0000\u0000\u0000\u0000\u0000\u0000\u0000\u0000\u0000\u0000\u0000\u0000\u0000\u0000\u0000\u0000\u0000\u0000\u0000\u0000\u0000\u0000\u0000\u0000\u0000\u0000\u0000\u0000\u0000\u0000\u0000\u0000\u0000\u0000\u0000\u0000\u0000\u0000\u0000\u0000\u0000\u0000\u0000\u0000¬’MOÃ0\f",
      "†ïHü‡È÷ÕÝ�\u0010BKwAH»!T~€IÜ\u000fµ�£$\u001bÝ¿'\u001c",
      "\u0010T\u001aƒ\u0003G½~üÊÛÝ<�êÈ!öâ4¬‹\u0012\u0014;#¶w­†—úqu\u0007*&r–Fq¬áÄ\u0011vÕõÕö™GJy(v½�*«¸¨¡KÉß#FÓñD±\u0010Ï.W\u001a\t\u0013¥\u001c",
      "†\u0016=™�ZÆMYÞbø®\u0001ÕBSí­†°·7 ê“Ï›×–¦é\n",
      "?ˆ9LìÒ™\u0015ÈsbgÙ®|Èl!õù\u001aUSh9i°bžr:\"y_dlÀóD›¿\u0013ý|-NœÈR\"4\u0012ø2ÏGÇ% õZ´4ñË�yÄ7\tÃ«ÈðÉ‚‹\u001f¨Þ\u0001\u0000\u0000ÿÿ\u0003\u0000PK\u0003\u0004\u0014\u0000\u0006\u0000\b\u0000\u0000\u0000!\u0000Þ\tý(\u0002\u0001\u0000\u0000Ô\u0003\u0000\u0000\u001a\u0000\b\u0001xl/_rels/workbook.xml.rels ¢\u0004\u0001( \u0000\u0001\u0000\u0000\u0000\u0000\u0000\u0000\u0000\u0000\u0000\u0000\u0000\u0000\u0000\u0000\u0000\u0000\u0000\u0000\u0000\u0000\u0000\u0000\u0000\u0000\u0000\u0000\u0000\u0000\u0000\u0000\u0000\u0000\u0000\u0000\u0000\u0000\u0000\u0000\u0000\u0000\u0000\u0000\u0000\u0000\u0000\u0000\u0000\u0000\u0000\u0000\u0000\u0000\u0000\u0000\u0000\u0000\u0000\u0000\u0000\u0000\u0000\u0000\u0000\u0000\u0000\u0000\u0000\u0000\u0000\u0000\u0000\u0000\u0000\u0000\u0000\u0000\u0000\u0000\u0000\u0000\u0000\u0000\u0000\u0000\u0000\u0000\u0000\u0000\u0000\u0000\u0000\u0000\u0000\u0000\u0000\u0000\u0000\u0000\u0000\u0000\u0000\u0000\u0000\u0000\u0000\u0000\u0000\u0000\u0000\u0000\u0000\u0000\u0000\u0000\u0000\u0000\u0000\u0000\u0000\u0000\u0000\u0000\u0000\u0000\u0000\u0000\u0000\u0000\u0000\u0000\u0000\u0000\u0000\u0000\u0000\u0000\u0000\u0000\u0000\u0000\u0000\u0000\u0000\u0000\u0000\u0000\u0000\u0000\u0000\u0000\u0000\u0000\u0000\u0000\u0000\u0000\u0000\u0000\u0000\u0000\u0000\u0000\u0000\u0000\u0000\u0000\u0000\u0000\u0000\u0000\u0000\u0000\u0000\u0000\u0000\u0000\u0000\u0000\u0000\u0000\u0000\u0000\u0000\u0000\u0000\u0000\u0000\u0000\u0000\u0000\u0000\u0000\u0000\u0000\u0000\u0000\u0000\u0000\u0000\u0000\u0000\u0000\u0000\u0000\u0000\u0000\u0000\u0000\u0000\u0000\u0000\u0000\u0000\u0000\u0000\u0000\u0000\u0000\u0000\u0000\u0000\u0000\u0000\u0000\u0000\u0000\u0000\u0000\u0000\u0000\u0000\u0000\u0000\u0000\u0000\u0000\u0000\u0000\u0000\u0000\u0000\u0000\u0000\u0000\u0000\u0000\u0000\u0000\u0000\u0000\u0000\u0000\u0000\u0000\u0000\u0000¼“ÏjÃ0\f",
      "Æïƒ½ƒÑ}q’ne”:½ŒA¯[÷\u0000&QâÐÄ6–ö'o?“Cº@É.¡\u0017ƒ$ü}?Ð§ýá§ïÄ\u0017\u0006j�U�%)\b´¥«ZÛ(ø8½><ƒ Ö¶Ò�³¨`@‚Cq·ÃNsüD¦õ$¢Š%\u0005†Ùï¤¤Ò`¯)q\u001e",
      "mœÔ.ôšc\u0019\u001aéuyÖ\n",
      "Ê<M·2üÕ€b¦)Ž•‚p¬6 Nƒ�Îÿk»ºnK|qåg�–¯XÈo\u0017Îd\u00109ŠêÐ +˜Z$ÇÉ&‰Ä ¯Ãä7†É—`²\u001bÃdK0Û5aÈè€Õ;‡˜Bº¬jÖ^‚yZ\u0015†‡.†~\n",
      "\f",
      "�õ’ýãšö\u001c",
      "O\t/îc)ÇwÚ‡œÝbñ\u000b",
      "\u0000\u0000ÿÿ\u0003\u0000PK\u0003\u0004\u0014\u0000\u0006\u0000\b\u0000\u0000\u0000!\u0000 Ÿ›5\u001e",
      "\u0003\u0000\u0000š\u0007\u0000\u0000\u000f\u0000\u0000\u0000xl/workbook.xml¤U]OÛ0\u0014}Ÿ´ÿ\u0010ù=8N“ÐF\u0004ÔR¢!�\t1>\u001e",
      "‘ë¸Ä\"‰3Û¡Eˆÿ¾k·)- ‰AÔÚñ×ñ9×ç:\u0007GËºò\u001e",
      "¸ÒB6\u0019\"{\u0001òxÃd!š»\f",
      "]]æþ\u0010yÚÐ¦ •lx†\u001e",
      "¹FG‡ß¿\u001d",
      ",¤ºŸIyï\u0001@£3T\u001aÓ¦\u0018kVòšê=Ùò\u0006FæRÕÔ@SÝaÝ*N\u000b",
      "]rnê\n",
      "‡A�àšŠ\u0006­\u0010Rõ\u0011\f",
      "9Ÿ\u000b",
      "Æ§’u5oÌ\n",
      "DñŠ\u001a ¯KÑê\u001e",
      "­f\u001f�«©ºïZŸÉº\u0005ˆ™¨„yt È«Yzz×HEg\u0015È^’Ø[*ø%ð'\u0001\u0014a¿\u0013\f",
      "½Ùª\u0016LI-çf\u000f ñŠô\u001bý$À„ì„`ù6\u0006\u001fCŠ°â\u000fÂžá†•J>É*Ù`%/`$ø2\u001a\u0001k9¯¤\u0010¼O¢Å\u001bn!:<˜‹Š_¯¬ëÑ¶ýEk{R\u0015ò*ªÍI!\f",
      "/2´\u000fM¹à;\u001d",
      "ªk'�¨`”�€\f",
      "\u0010>ÜØù\\y\u0005ŸÓ®2—`ä\u001e",
      "\u001e",
      "&&É(ŒíL0Æ¸2\\5ÔðcÙ\u0018ðáZ×W=ç°�K\t\u000e÷.øŸN(\u000e‰\u0005þ\u0002­PR–Ò™>§¦ô:Ue\b_i\u0010\u000f\u00062\u0002O¹¾7²Å[¦¤o3à?lI™ÕŠAìŠÐêýµpà¥ÒÞzçFyð~:ý\táÿM\u001fà0àÈ‹u®žÚh\u000fn\u001b¦Rrû”„ûƒ`x|â�’\u0001ñI\u0010Eþx\u0014†~4Î'c2\u001d",
      "\u000f'£ü\u0019Ä¨$e’v¦\\Ÿ³…ÎP\u0014¿3tF—ý\b\tÒN\u0014/4ž‚õãÛúUÑ�=[ÁöF»\u0016|¡_\u001c",
      "a›ÞòF4…\\8E�ý{”€¾…\u001b¸\u0011…)3\u0014\u000e‡Á¦ï\u0007\u0017w%°%ûq\u0004�”\u0019ñÀ/é\f",
      "¦Yú¡å˜¡\u001d",
      "nÓ\u0015·\u001c",
      "\u001e",
      "ß\u0016;Üð\u00169w‹\u0002IW{�sþ¹’EÇ\f",
      "\\�®×\u0005\u001c",
      "y*µ»¨Ó‚X}ÛóÁ3L‰Ö]�[k\u0006[kÂ×kÎ¸b%mv6\u00015›M\\.áž\u001d",
      "£\u0015ƒ„²•c3\"A8²�|i~jãjð²€(Lâá$\u0018ŒÀ\u00019ÉýˆŒ\u00022I\"?žæƒxŸL�Obg\bû±I—\u0016qþÉ;dˆÝjNM\u0007ùeSËµS[æëÞMç|Õ±ŽðNþ¤\u0017S+e½ú_\u0013ók—Kïîƒ!\u0014�[}@pÿY=ü\u000b",
      "\u0000\u0000ÿÿ\u0003\u0000PK\u0003\u0004\u0014\u0000\u0006\u0000\b\u0000\u0000\u0000!\u0000Á\u0017\u0010¾N\u0007\u0000\u0000Æ \u0000\u0000\u0013\u0000\u0000\u0000xl/theme/theme1.xmlìYÍ‹\u001b7\u0014¿\u0017ú?\f",
      "swü5ã�%ÞàÏl“Ý$d�”\u001c",
      "µ¶ìQV32’¼\u001b\u0013\u0002%9õR(¤¥—Bo=”Ò@\u0003\n",
      "½ô�\t$´é\u001fÑ'ÍØ#­å$›lJZv\n",
      "‹Gþ½§§÷ž~zótñÒ½˜zG˜\u000b",
      "Â’–_¾Pò=œŒØ˜$Ó–k8(4|OH”Œ\u0011e\tnù\u000b",
      ",üKÛŸ~r\u0011mÉ\bÇØ\u0003ùDl¡–\u001fI9Û*\u0016Å\b†‘¸Àf8�ß&ŒÇHÂ#Ÿ\u0016Ç\u001c",
      "\u001d",
      "ƒÞ˜\u0016+¥R­\u0018#’ø^‚bP{}2!#ì\n",
      "•J{©¼Oá1‘B\n",
      "Œ(ßWª±%¡±ãÃ²Bˆ…èRî\u001d",
      "!Úòaž1;\u001e",
      "â{Ò÷(\u0012\u0012~hù%ýç\u0017·/\u0016ÑV&Då\u0006YCn ÿ2¹L`|XÑsòéÁjÒ \bƒZ{¥_\u0003¨\\ÇõëýZ¿¶Ò§\u0001h4‚•¦¶Ø:ë•n�a\n",
      "PúÕ¡»WïUË\u0016ÞÐ_]³¹\u001d",
      "ª�…× T°†\u001f\f",
      "ºàE\u000b",
      "¯A)>\\Ã‡�f§gë× \u0014_[Ã×Kí^P·ôkPDIr¸†.…µjw¹Ú\u0015dÂèŽ\u0013Þ\f",
      "ƒA½’)ÏQ�\n",
      "«ìRSLX\"7åZŒî2>\u0000€\u0002R$IâÉÅ\f",
      "OÐ\b²¸‹(9àÄÛ%Ó\b\u0012o†\u0012&`¸T)\n",
      "JUø¯>�þ¦#Š¶02¤•]`‰X\u001bRöxbÄÉL¶ü+ Õ7 /ž={þðéó‡¿=ôèùÃ_²¹µ*Kn\u0007%SSîÕ�_ÿýý\u0017Þ_¿þðêñ7éÔ'ñÂÄ¿üùË—¿ÿñ:õ°âÜ\u0015/¾}òòé“\u0017ß}õçO�\u001d",
      "ÚÛ\u001c",
      "\u001d",
      "˜ð!‰±ð®ácï&‹a�\u000eûñ\u0001?�Ä0BÄ’@\u0011èv¨îËÈ\u0002^[ êÂu°íÂÛ\u001c",
      "XÆ\u0005¼<¿kÙº\u001fñ¹$Ž™¯F±\u0005ÜcŒv\u0018w:àªšËððpžLÝ“ó¹‰»‰Ð‘kî.J¬\u0000÷ç3 WâRÙ�°eæ\n",
      "Š\u0012‰¦8ÁÒS¿±CŒ\u001d",
      "«»Cˆå×=2âL°‰ôî\u0010¯ƒˆÓ%Cr`%R.´CbˆËÂe „ÚòÍÞm¯Ã¨kÕ=|d#a[ ê0~ˆ©åÆËh.QìR9D15\u001d",
      "¾‹dä2rÁG&®/$DzŠ)óúc,„Kæ:‡õ\u001aA¿\n",
      "\f",
      "ã\u000eû\u001e",
      "]Ä6’KrèÒ¹‹\u00183‘=vØ�P<sÚL’ÈÄ~&\u000e!E‘wƒI\u0017|�Ù;D=C\u001c",
      "P²1Ü·\t¶Âýf\"¸\u0005äjš”'ˆúeÎ\u001d",
      "±¼Œ™½\u001f\u0017t‚°‹eÚ<¶ØµÍ‰3;:ó©•Ú»\u0018StŒÆ\u0018{·>sXÐa3Ëç¹ÑW\"`•\u001d",
      "ìJ¬+ÈÎUõœ`\u0001e’ªkÖ)r—\b+e÷ñ”m°goq‚x\u0016(‰\u0011ß¤ù\u001aDÝJ]8åœTz�Ž\u000eMà5\u0002å\u001fä‹Ó)×\u0005è0’»¿Ië�\bYg—z\u0016î|]p+~o³Ç`_Þ=í¾\u0004\u0019|j\u0019 ö·öÍ\u0010Qk‚<a†\b\n",
      "\f",
      "\u0017Ý‚ˆ\u0015þ\\D�«Zlî”›Ø›6\u000f\u0003\u0014FV½\u0013“ä�ÅÏ‰²'üwÊ\u001e",
      "w\u0001s\u0006\u0005�[ñû”:›(eçD�³\t÷\u001f,kzhžÜÀp’¬sÖyUs^ÕøÿûªfÓ^>¯eÎk™óZÆõöõAj™¼|�Ê&ïòèžO¼±å3!”îË\u0005Å»Bw}\u0004¼ÑŒ\u00070¨ÛQº'¹j\u0001Î\"øš5˜,Ü”#-ãq&?'2Ú�Ð\f",
      "ZCeÝÀœŠLõTx3& c¤‡u+\u0015ŸÐ­ûNóx��ÓNg¹¬ºš©\u000b",
      "\u0005’ùx)\\�C—J¦èZ=ïÞ­Ôë~èTwY—\u0006(ÙÓ\u0018aLf\u001bQu\u0018Q_\u000eB\u0014^g„^Ù™XÑtXÑPê—¡ZFqå\n",
      "0m\u0015\u0015xåöàE½å‡AÚA†f\u001c",
      "”çc\u0015§´™¼Œ®\n",
      "Î™Fz“3©™\u0001Pb/3 �tSÙºqyjuiª½E¤-#Œt³�0Ò0‚\u0017á,;Í–ûYÆº™‡Ô2O¹b¹\u001br3ê�\u000f\u0011kE\"'¸�&&SÐÄ;nùµj\b·*#4kù\u0013è\u0018Ã×x\u0006¹#Ô[\u0017¢S¸v\u0019Ižnøwa–\u0019\u0017²‡D”:\\“NÊ\u00061‘˜{”Ä-_-•\n",
      "4Ñ\u001c",
      "¢m+W€\u0010>Zãš@+\u001f›q\u0010t;Èx2Á#i†Ý\u0018QžN\u001f�áS®pþªÅß\u001d",
      "¬$Ù\u001c",
      "Â½\u001f��½\u0003:ç7\u0011¤XX/+\u0007Ž‰€‹ƒrêÍ1�›°\u0015‘åùwâ`Êh×¼ŠÒ9”Ž#:‹Pv¢˜džÂ5‰®ÌÑO+\u001f\u0018OÙšÁ¡ë.<˜ª\u0003ö½OÝ7\u001fÕÊs\u0006iæg¦Å*êÔt“é‡;ä\n",
      "«òCÔ²*¥nýN-r®k.¹\u000e\u0012ÕyJ¼áÔ}‹\u0003Á0-ŸÌ2MY¼NÃŠ³³QÛ´3,\b\f",
      "OÔ6ømuF8=ñ®'?È�ÌZu@,ëJ�øúÊÜ¼Õf\u0007w�<zp8§RèPBo—#(úÒ\u001bÈ”6`‹Ü“Y�\bß¼9'-ÿ~)l\u0007ÝJØ-”\u001aa¿\u0010TƒR¡\u0011¶«…v\u0018VËý°\\êu*\u000fà`‘Q\\\u000eÓëú\u0001\\aÐEvi¯Ç×.îãå-Í…\u0011‹‹L_Ì\u0017µáúâ¾\\Ù|qï\u0011 �ûµÊ Ymvj…fµ=(\u0004½N£ÐìÖ:…^­[ï\n",
      "zÝ°Ñ\u001c",
      "<ð½#\n",
      "\u000eÚÕnPë7\n",
      "µr·[\bj%e~£Y¨\u0007•J;¨·\u001bý ý +c`å)}d¾\u0000÷j»¶ÿ\u0001\u0000\u0000ÿÿ\u0003\u0000PK\u0003\u0004\u0014\u0000\u0006\u0000\b\u0000\u0000\u0000!\u0000¥)Êôµ\t\u0000\u0000 I\u0000\u0000\n",
      "\u0000\u0000\u0000xl/styles.xmlÔ\\m“â¸\u0011þžªü\u0007—7É§0~\u0007<\u0001®\u0006\u0006'[µÙ»ÊN*ùê1†ñ�_ˆ-öàRùïiI¶%ñ2ˆ\u0019ƒêŠÚ\u001d",
      "l¬§[Ý�ZRKòè‡m–jßã²JŠ|¬[w¦®ÅyT,’|5Öÿù\u0014ô†ºV¡0_„i‘Çc}\u0017Wú\u000f“ßÿnT¡]\u001a{‰c¤\u0001D^�õ\u0017„Ö÷†QE/q\u0016VwÅ:Îá—eQf!‚ËreTë2\u000e\u0017\u0015.”¥†mš}#\u000b",
      "“\\§\b÷Y$\u0003’…åëfÝ‹Šl\u001d",
      "¢ä9I\u0013´#Xº–E÷ŸWyQ†Ï)¨ºµÜ0Ò¶V¿´µmÙ\b!w\u000fädIT\u0016U±Dw€k\u0014Ëe\u0012Å‡êú†o„\u0011C\u0002ä÷!YžaÚBÝ·å;‘\\£Œ¿'Ø}úd”o² C•\u0016\u0015›\u001c",
      "�;Û[\u001aýåó\u0002nö]]£^™\u0015\u000b",
      "°ÓŸþ³)Ð_þ@ÿ|úó§Oæ�iêÆddÔp“Ñ²È9T \u0004±âýk^ü’\u0007ø7*\u000b",
      "?6\u0019U¿jßÃ\u0014îØ\u0018$*Ò¢Ô\u0010p\u0002DYøN\u001e",
      "f1}b\u0016¦És™à›Ë0KÒ\u001d",
      "½MÊ\u0011\u001aÕÏe\t8•hD%(’3<¨�s´>Ú—dõ‚Î×*üùH­žÁ\u0018­\u0005=I‰ï´  ‹ÔEðÖñÚu!‹ðàz²Ž1°\\=�õ €˜cQv_“†µ0f‚¼ks¾\u0015æ\n",
      "nV3'p‚A§5\u0013¸ÈEŽºvX \u0013tiÊ3\u0002ƒ‡ÁãÍÌÙ½°Sµ«\u00031‰ï7h\u0001¸ÁukÅ„��‡<\u0019\u0004øs\u000b",
      "žÜ¸KëÈc\u0006éÊ¡¿MÒ´\u001d",
      "'8}\u0018(à;“\u0011Œ©P\\æ\u0001\\hõ÷§Ý\u001aºî\u001c",
      "†´\u000b",
      "&Ï�yzU†;Ë&Ý—A\u001f=S *Òd�µXÍÈ€¡nö³þ<˜Í‰\\N3\u0018š|\u00044\bfƒ+€Î§þ¬{Mg¾ß5¨\u001d",
      "À§cÐ\u0007\u000f:¯>¸ª3›Ö\n",
      "ÖíJÉ\u0016OC\t\u001e",
      "m›w\u0003ß÷‡V8\u001c",
      "ú®c¹.1òsÍè$_ÄÛ\u0018\u0006àýÎÌt¨�\u0007\u001aøÎÐïÛ ˆé\u000e‰¨›jà€\u0002\u0003Ï\u001bz–o»ð�\f",
      "õ®¯A×6õtÕ^å4PäUN\u0003E^%#L£ƒÈ_·”¾r¯r\u001a(ò*§�\"¯\u000e:ŽÀ\u0003å^å4PäUN\u0003E^%Ù‘\u000eÛ*d™\u0014÷«œ\u0006Š¼Êi È«�\n",
      ">ë\bì+÷*§�\"¯r\u001aÜÚ«õ´jnûurãpdÖÙø¸Í¸MM�Ì^o!k`Î.–E&“Õdô\\”\u000b",
      "X\ti³ç&ÌGé½É(�—\b2\u000f%ÎìÂ_T¬áÿç\u0002!X.˜Œ\u0016I¸*ò0ÅIó¦„DIXY�E”±Ž^’è\u0015„\t\u0019Qê\u0007*âZ\u0012Ú\bëâ™‹;pÍ�ëÙ}:9ìHt\u0016/’MvX»VöÑ6\u0000fÄ¶=_qÎ†x\u0005„š°¦\u001e",
      "K\u0006\u0019Øµû$K\u0010W\u0013OK\u0016\u0000N4”�,ÑE\u001d",
      "YbT¶Ž\\\t¹:r\u0005$ëÈ•èˆE‹b\u0003‹zû\u000e\u000e‚¡i’\u0019æÅ|9\u000eø¶5Ï–9´çÙ\"G,z¶L\u0017¼™ÚøCFâ’mƒ+!Ç\u001b®€$o¸\u0012ïãÍÑ†'$~ÎÛ[xü-5êP\u000f=G\u0014§é7\u001c",
      "Ëÿ½l»\u000fÈþLFÛ%·ò\n",
      "kë8ûŠ\u0017añWÈ£Ö_iWA/ \u000b",
      "9UÈ>YH\u000b",
      "×ët÷u“=Çe@\u0016Ü‰\br\u0017§rÙÕ”ôqìú!MVy\u0016“ü•Na~*\u000b",
      "\u0014Gˆl\b }é)}œ\u0013úX5�Œ>\u001f‘�×±�\u0019\u0011ì$m��È‡üÈQù`\u0017¥ò�\\Jø\u0000™…Æ\u001e",
      "à\u0002žÔoéÓ%#a\u0016Üh\u0000NP¡\u0001ÌØ\u001a\n",
      "€ž*4€ÙE£\u0001\u0010”i\u0000ê¼ÁŠ�´\u0003‹‹fÀ\u0001&\u0012ä_K$Ä˜¦–‚È+ÖòTø\u0005ù7iî\u0016\u0017o�èÌÌpq-3Ÿ\n"
     ]
    }
   ],
   "source": [
    "!head data/products.xlsx\n",
    "\n",
    "# Note: is not a text file"
   ]
  },
  {
   "cell_type": "markdown",
   "metadata": {},
   "source": [
    "![green-divider](https://user-images.githubusercontent.com/7065401/52071924-c003ad80-2562-11e9-8297-1c6595f8a7ff.png)\n",
    "\n",
    "## The `read_excel` method\n",
    "\n",
    "We'll begin with the **read_excel** method, that let us read Excel files into a `DataFrame`.\n",
    "\n",
    "This method supports both XLS and XLSX file extensions from a local filesystem or URL and has a broad set of parameters to configure how the data will be read and parsed. These parameters are very similar to the parameters we saw on previous lectures where we introduced the `read_csv` method. The most common parameters are as follows:\n",
    "\n",
    "- `filepath`: Path of the file to be read.\n",
    "- `sheet_name`: Strings are used for sheet names. Integers are used in zero-indexed sheet positions. Lists of strings/integers are used to request multiple sheets. Specify None to get all sheets.\n",
    "- `header`: Index of the row containing the names of the columns (None if none).\n",
    "- `index_col`: Index of the column or sequence of indexes that should be used as index of rows of the data.\n",
    "- `names`: Sequence containing the names of the columns (used together with header = None).\n",
    "- `skiprows`: Number of rows or sequence of row indexes to ignore in the load.\n",
    "- `na_values`: Sequence of values that, if found in the file, should be treated as NaN.\n",
    "- `dtype`: Dictionary in which the keys will be column names and the values will be types of NumPy to which their content must be converted.\n",
    "- `parse_dates`: Flag that indicates if Python should try to parse data with a format similar to dates as dates. You can enter a list of column names that must be joined for the parsing as a date.\n",
    "- `date_parser`: Function to use to try to parse dates.\n",
    "- `nrows`: Number of rows to read from the beginning of the file.\n",
    "- `skip_footer`: Number of rows to ignore at the end of the file.\n",
    "- `squeeze`: Flag that indicates that if the data read only contains one column the result is a Series instead of a DataFrame.\n",
    "- `thousands`: Character to use to detect the thousands separator.\n",
    "\n",
    "> Full `read_excel` documentation can be found here: https://pandas.pydata.org/pandas-docs/stable/reference/api/pandas.read_excel.html."
   ]
  },
  {
   "cell_type": "markdown",
   "metadata": {},
   "source": [
    "In this case we'll try to read our `products.xlsx` Excel file.\n",
    "\n",
    "This file contains records of products with its price, brand, description and merchant information on different sheets."
   ]
  },
  {
   "cell_type": "markdown",
   "metadata": {},
   "source": [
    "![green-divider](https://user-images.githubusercontent.com/7065401/52071924-c003ad80-2562-11e9-8297-1c6595f8a7ff.png)\n",
    "\n",
    "## Reading our first Excel file\n",
    "\n",
    "Everytime we call `read_excel` method, we'll need to pass an explicit `filepath` parameter indicating the path where our Excel file is.\n",
    "\n",
    "Any valid string path is acceptable. The string could be a URL. Valid URL schemes include HTTP, FTP, S3, and file. For file URLs, a host is expected. A local file could be: `file://localhost/path/to/table.xlsx`."
   ]
  },
  {
   "cell_type": "code",
   "execution_count": 4,
   "metadata": {
    "scrolled": false
   },
   "outputs": [],
   "source": [
    "df = pd.read_excel('data/products.xlsx')"
   ]
  },
  {
   "cell_type": "code",
   "execution_count": 5,
   "metadata": {},
   "outputs": [
    {
     "data": {
      "text/html": [
       "<div>\n",
       "<style scoped>\n",
       "    .dataframe tbody tr th:only-of-type {\n",
       "        vertical-align: middle;\n",
       "    }\n",
       "\n",
       "    .dataframe tbody tr th {\n",
       "        vertical-align: top;\n",
       "    }\n",
       "\n",
       "    .dataframe thead th {\n",
       "        text-align: right;\n",
       "    }\n",
       "</style>\n",
       "<table border=\"1\" class=\"dataframe\">\n",
       "  <thead>\n",
       "    <tr style=\"text-align: right;\">\n",
       "      <th></th>\n",
       "      <th>product_id</th>\n",
       "      <th>price</th>\n",
       "      <th>merchant_id</th>\n",
       "      <th>brand</th>\n",
       "      <th>name</th>\n",
       "    </tr>\n",
       "  </thead>\n",
       "  <tbody>\n",
       "    <tr>\n",
       "      <th>0</th>\n",
       "      <td>AVphzgbJLJeJML43fA0o</td>\n",
       "      <td>104.99</td>\n",
       "      <td>1001</td>\n",
       "      <td>Sanus</td>\n",
       "      <td>Sanus VLF410B1 10-Inch Super Slim Full-Motion ...</td>\n",
       "    </tr>\n",
       "    <tr>\n",
       "      <th>1</th>\n",
       "      <td>AVpgMuGwLJeJML43KY_c</td>\n",
       "      <td>69.00</td>\n",
       "      <td>1002</td>\n",
       "      <td>Boytone</td>\n",
       "      <td>Boytone - 2500W 2.1-Ch. Home Theater System - ...</td>\n",
       "    </tr>\n",
       "    <tr>\n",
       "      <th>2</th>\n",
       "      <td>AVpe9FXeLJeJML43zHrq</td>\n",
       "      <td>23.99</td>\n",
       "      <td>1001</td>\n",
       "      <td>DENAQ</td>\n",
       "      <td>DENAQ - AC Adapter for TOSHIBA SATELLITE</td>\n",
       "    </tr>\n",
       "    <tr>\n",
       "      <th>3</th>\n",
       "      <td>AVpfVJXu1cnluZ0-iwTT</td>\n",
       "      <td>290.99</td>\n",
       "      <td>1001</td>\n",
       "      <td>DreamWave</td>\n",
       "      <td>DreamWave - Tremor Portable Bluetooth Speaker ...</td>\n",
       "    </tr>\n",
       "    <tr>\n",
       "      <th>4</th>\n",
       "      <td>AVphUeKeilAPnD_x3-Be</td>\n",
       "      <td>244.01</td>\n",
       "      <td>1004</td>\n",
       "      <td>Yamaha</td>\n",
       "      <td>NS-SP1800BL 5.1-Channel Home Theater System (B...</td>\n",
       "    </tr>\n",
       "  </tbody>\n",
       "</table>\n",
       "</div>"
      ],
      "text/plain": [
       "             product_id   price  merchant_id      brand  \\\n",
       "0  AVphzgbJLJeJML43fA0o  104.99         1001      Sanus   \n",
       "1  AVpgMuGwLJeJML43KY_c   69.00         1002    Boytone   \n",
       "2  AVpe9FXeLJeJML43zHrq   23.99         1001      DENAQ   \n",
       "3  AVpfVJXu1cnluZ0-iwTT  290.99         1001  DreamWave   \n",
       "4  AVphUeKeilAPnD_x3-Be  244.01         1004     Yamaha   \n",
       "\n",
       "                                                name  \n",
       "0  Sanus VLF410B1 10-Inch Super Slim Full-Motion ...  \n",
       "1  Boytone - 2500W 2.1-Ch. Home Theater System - ...  \n",
       "2           DENAQ - AC Adapter for TOSHIBA SATELLITE  \n",
       "3  DreamWave - Tremor Portable Bluetooth Speaker ...  \n",
       "4  NS-SP1800BL 5.1-Channel Home Theater System (B...  "
      ]
     },
     "execution_count": 5,
     "metadata": {},
     "output_type": "execute_result"
    }
   ],
   "source": [
    "df.head()\n",
    "\n",
    "# Note: How can we see, it reads just the first sheet of the excel file!"
   ]
  },
  {
   "cell_type": "markdown",
   "metadata": {},
   "source": [
    "In this case we let pandas infer everything related to our data, but in most of the cases we'll need to explicitly tell pandas how we want our data to be loaded. To do that we use parameters.\n",
    "\n"
   ]
  },
  {
   "cell_type": "markdown",
   "metadata": {},
   "source": [
    "![green-divider](https://user-images.githubusercontent.com/7065401/52071924-c003ad80-2562-11e9-8297-1c6595f8a7ff.png)\n",
    "\n",
    "## First row behaviour with `header` parameter\n",
    "\n",
    "The Excel file we're reading has the following columns:\n",
    "\n",
    "- `product_id`\n",
    "- `price`\n",
    "- `merchant_id`\n",
    "- `brand`\n",
    "- `name`\n",
    "\n",
    "The first row (0-index) of the data has that column names, so we keep the implicit `header=0` parameter to let Pandas assign this first row as headers. We can overwrite this behavior defining explicitly the `header` parameter."
   ]
  },
  {
   "cell_type": "code",
   "execution_count": 6,
   "metadata": {},
   "outputs": [
    {
     "data": {
      "text/html": [
       "<div>\n",
       "<style scoped>\n",
       "    .dataframe tbody tr th:only-of-type {\n",
       "        vertical-align: middle;\n",
       "    }\n",
       "\n",
       "    .dataframe tbody tr th {\n",
       "        vertical-align: top;\n",
       "    }\n",
       "\n",
       "    .dataframe thead th {\n",
       "        text-align: right;\n",
       "    }\n",
       "</style>\n",
       "<table border=\"1\" class=\"dataframe\">\n",
       "  <thead>\n",
       "    <tr style=\"text-align: right;\">\n",
       "      <th></th>\n",
       "      <th>product_id</th>\n",
       "      <th>price</th>\n",
       "      <th>merchant_id</th>\n",
       "      <th>brand</th>\n",
       "      <th>name</th>\n",
       "    </tr>\n",
       "  </thead>\n",
       "  <tbody>\n",
       "    <tr>\n",
       "      <th>0</th>\n",
       "      <td>AVphzgbJLJeJML43fA0o</td>\n",
       "      <td>104.99</td>\n",
       "      <td>1001</td>\n",
       "      <td>Sanus</td>\n",
       "      <td>Sanus VLF410B1 10-Inch Super Slim Full-Motion ...</td>\n",
       "    </tr>\n",
       "    <tr>\n",
       "      <th>1</th>\n",
       "      <td>AVpgMuGwLJeJML43KY_c</td>\n",
       "      <td>69.00</td>\n",
       "      <td>1002</td>\n",
       "      <td>Boytone</td>\n",
       "      <td>Boytone - 2500W 2.1-Ch. Home Theater System - ...</td>\n",
       "    </tr>\n",
       "    <tr>\n",
       "      <th>2</th>\n",
       "      <td>AVpe9FXeLJeJML43zHrq</td>\n",
       "      <td>23.99</td>\n",
       "      <td>1001</td>\n",
       "      <td>DENAQ</td>\n",
       "      <td>DENAQ - AC Adapter for TOSHIBA SATELLITE</td>\n",
       "    </tr>\n",
       "    <tr>\n",
       "      <th>3</th>\n",
       "      <td>AVpfVJXu1cnluZ0-iwTT</td>\n",
       "      <td>290.99</td>\n",
       "      <td>1001</td>\n",
       "      <td>DreamWave</td>\n",
       "      <td>DreamWave - Tremor Portable Bluetooth Speaker ...</td>\n",
       "    </tr>\n",
       "    <tr>\n",
       "      <th>4</th>\n",
       "      <td>AVphUeKeilAPnD_x3-Be</td>\n",
       "      <td>244.01</td>\n",
       "      <td>1004</td>\n",
       "      <td>Yamaha</td>\n",
       "      <td>NS-SP1800BL 5.1-Channel Home Theater System (B...</td>\n",
       "    </tr>\n",
       "  </tbody>\n",
       "</table>\n",
       "</div>"
      ],
      "text/plain": [
       "             product_id   price  merchant_id      brand  \\\n",
       "0  AVphzgbJLJeJML43fA0o  104.99         1001      Sanus   \n",
       "1  AVpgMuGwLJeJML43KY_c   69.00         1002    Boytone   \n",
       "2  AVpe9FXeLJeJML43zHrq   23.99         1001      DENAQ   \n",
       "3  AVpfVJXu1cnluZ0-iwTT  290.99         1001  DreamWave   \n",
       "4  AVphUeKeilAPnD_x3-Be  244.01         1004     Yamaha   \n",
       "\n",
       "                                                name  \n",
       "0  Sanus VLF410B1 10-Inch Super Slim Full-Motion ...  \n",
       "1  Boytone - 2500W 2.1-Ch. Home Theater System - ...  \n",
       "2           DENAQ - AC Adapter for TOSHIBA SATELLITE  \n",
       "3  DreamWave - Tremor Portable Bluetooth Speaker ...  \n",
       "4  NS-SP1800BL 5.1-Channel Home Theater System (B...  "
      ]
     },
     "execution_count": 6,
     "metadata": {},
     "output_type": "execute_result"
    }
   ],
   "source": [
    "pd.read_excel('data/products.xlsx').head()"
   ]
  },
  {
   "cell_type": "code",
   "execution_count": 7,
   "metadata": {},
   "outputs": [
    {
     "data": {
      "text/html": [
       "<div>\n",
       "<style scoped>\n",
       "    .dataframe tbody tr th:only-of-type {\n",
       "        vertical-align: middle;\n",
       "    }\n",
       "\n",
       "    .dataframe tbody tr th {\n",
       "        vertical-align: top;\n",
       "    }\n",
       "\n",
       "    .dataframe thead th {\n",
       "        text-align: right;\n",
       "    }\n",
       "</style>\n",
       "<table border=\"1\" class=\"dataframe\">\n",
       "  <thead>\n",
       "    <tr style=\"text-align: right;\">\n",
       "      <th></th>\n",
       "      <th>0</th>\n",
       "      <th>1</th>\n",
       "      <th>2</th>\n",
       "      <th>3</th>\n",
       "      <th>4</th>\n",
       "    </tr>\n",
       "  </thead>\n",
       "  <tbody>\n",
       "    <tr>\n",
       "      <th>0</th>\n",
       "      <td>product_id</td>\n",
       "      <td>price</td>\n",
       "      <td>merchant_id</td>\n",
       "      <td>brand</td>\n",
       "      <td>name</td>\n",
       "    </tr>\n",
       "    <tr>\n",
       "      <th>1</th>\n",
       "      <td>AVphzgbJLJeJML43fA0o</td>\n",
       "      <td>104.99</td>\n",
       "      <td>1001</td>\n",
       "      <td>Sanus</td>\n",
       "      <td>Sanus VLF410B1 10-Inch Super Slim Full-Motion ...</td>\n",
       "    </tr>\n",
       "    <tr>\n",
       "      <th>2</th>\n",
       "      <td>AVpgMuGwLJeJML43KY_c</td>\n",
       "      <td>69</td>\n",
       "      <td>1002</td>\n",
       "      <td>Boytone</td>\n",
       "      <td>Boytone - 2500W 2.1-Ch. Home Theater System - ...</td>\n",
       "    </tr>\n",
       "    <tr>\n",
       "      <th>3</th>\n",
       "      <td>AVpe9FXeLJeJML43zHrq</td>\n",
       "      <td>23.99</td>\n",
       "      <td>1001</td>\n",
       "      <td>DENAQ</td>\n",
       "      <td>DENAQ - AC Adapter for TOSHIBA SATELLITE</td>\n",
       "    </tr>\n",
       "    <tr>\n",
       "      <th>4</th>\n",
       "      <td>AVpfVJXu1cnluZ0-iwTT</td>\n",
       "      <td>290.99</td>\n",
       "      <td>1001</td>\n",
       "      <td>DreamWave</td>\n",
       "      <td>DreamWave - Tremor Portable Bluetooth Speaker ...</td>\n",
       "    </tr>\n",
       "  </tbody>\n",
       "</table>\n",
       "</div>"
      ],
      "text/plain": [
       "                      0       1            2          3  \\\n",
       "0            product_id   price  merchant_id      brand   \n",
       "1  AVphzgbJLJeJML43fA0o  104.99         1001      Sanus   \n",
       "2  AVpgMuGwLJeJML43KY_c      69         1002    Boytone   \n",
       "3  AVpe9FXeLJeJML43zHrq   23.99         1001      DENAQ   \n",
       "4  AVpfVJXu1cnluZ0-iwTT  290.99         1001  DreamWave   \n",
       "\n",
       "                                                   4  \n",
       "0                                               name  \n",
       "1  Sanus VLF410B1 10-Inch Super Slim Full-Motion ...  \n",
       "2  Boytone - 2500W 2.1-Ch. Home Theater System - ...  \n",
       "3           DENAQ - AC Adapter for TOSHIBA SATELLITE  \n",
       "4  DreamWave - Tremor Portable Bluetooth Speaker ...  "
      ]
     },
     "execution_count": 7,
     "metadata": {},
     "output_type": "execute_result"
    }
   ],
   "source": [
    "pd.read_excel('data/products.xlsx',\n",
    "              header=None).head()"
   ]
  },
  {
   "cell_type": "markdown",
   "metadata": {},
   "source": [
    "![green-divider](https://user-images.githubusercontent.com/7065401/52071924-c003ad80-2562-11e9-8297-1c6595f8a7ff.png)\n",
    "\n",
    "## Adding index to our data using `index_col` parameter\n",
    "\n",
    "By default, pandas will automatically assign a numeric autoincremental index or row label starting with zero.\n",
    "\n",
    "You may want to leave the default index as such if your data doesn’t have a column with unique values that can serve as a better index.\n",
    "\n",
    "In case there is a column that you feel would serve as a better index, you can override the default behavior by setting `index_col` property to a column. It takes a numeric value or a string for setting a single column as index or a list of numeric values for creating a multi-index.\n",
    "\n",
    "In our data, we are choosing the first column, `product_id`, as index (index=0) by passing zero to the `index_col` argument."
   ]
  },
  {
   "cell_type": "code",
   "execution_count": 9,
   "metadata": {},
   "outputs": [],
   "source": [
    "df = pd.read_excel('data/products.xlsx',\n",
    "                   index_col=[0])"
   ]
  },
  {
   "cell_type": "code",
   "execution_count": 10,
   "metadata": {},
   "outputs": [
    {
     "data": {
      "text/html": [
       "<div>\n",
       "<style scoped>\n",
       "    .dataframe tbody tr th:only-of-type {\n",
       "        vertical-align: middle;\n",
       "    }\n",
       "\n",
       "    .dataframe tbody tr th {\n",
       "        vertical-align: top;\n",
       "    }\n",
       "\n",
       "    .dataframe thead th {\n",
       "        text-align: right;\n",
       "    }\n",
       "</style>\n",
       "<table border=\"1\" class=\"dataframe\">\n",
       "  <thead>\n",
       "    <tr style=\"text-align: right;\">\n",
       "      <th></th>\n",
       "      <th>price</th>\n",
       "      <th>merchant_id</th>\n",
       "      <th>brand</th>\n",
       "      <th>name</th>\n",
       "    </tr>\n",
       "    <tr>\n",
       "      <th>product_id</th>\n",
       "      <th></th>\n",
       "      <th></th>\n",
       "      <th></th>\n",
       "      <th></th>\n",
       "    </tr>\n",
       "  </thead>\n",
       "  <tbody>\n",
       "    <tr>\n",
       "      <th>AVphzgbJLJeJML43fA0o</th>\n",
       "      <td>104.99</td>\n",
       "      <td>1001</td>\n",
       "      <td>Sanus</td>\n",
       "      <td>Sanus VLF410B1 10-Inch Super Slim Full-Motion ...</td>\n",
       "    </tr>\n",
       "    <tr>\n",
       "      <th>AVpgMuGwLJeJML43KY_c</th>\n",
       "      <td>69.00</td>\n",
       "      <td>1002</td>\n",
       "      <td>Boytone</td>\n",
       "      <td>Boytone - 2500W 2.1-Ch. Home Theater System - ...</td>\n",
       "    </tr>\n",
       "    <tr>\n",
       "      <th>AVpe9FXeLJeJML43zHrq</th>\n",
       "      <td>23.99</td>\n",
       "      <td>1001</td>\n",
       "      <td>DENAQ</td>\n",
       "      <td>DENAQ - AC Adapter for TOSHIBA SATELLITE</td>\n",
       "    </tr>\n",
       "    <tr>\n",
       "      <th>AVpfVJXu1cnluZ0-iwTT</th>\n",
       "      <td>290.99</td>\n",
       "      <td>1001</td>\n",
       "      <td>DreamWave</td>\n",
       "      <td>DreamWave - Tremor Portable Bluetooth Speaker ...</td>\n",
       "    </tr>\n",
       "    <tr>\n",
       "      <th>AVphUeKeilAPnD_x3-Be</th>\n",
       "      <td>244.01</td>\n",
       "      <td>1004</td>\n",
       "      <td>Yamaha</td>\n",
       "      <td>NS-SP1800BL 5.1-Channel Home Theater System (B...</td>\n",
       "    </tr>\n",
       "  </tbody>\n",
       "</table>\n",
       "</div>"
      ],
      "text/plain": [
       "                       price  merchant_id      brand  \\\n",
       "product_id                                             \n",
       "AVphzgbJLJeJML43fA0o  104.99         1001      Sanus   \n",
       "AVpgMuGwLJeJML43KY_c   69.00         1002    Boytone   \n",
       "AVpe9FXeLJeJML43zHrq   23.99         1001      DENAQ   \n",
       "AVpfVJXu1cnluZ0-iwTT  290.99         1001  DreamWave   \n",
       "AVphUeKeilAPnD_x3-Be  244.01         1004     Yamaha   \n",
       "\n",
       "                                                                   name  \n",
       "product_id                                                               \n",
       "AVphzgbJLJeJML43fA0o  Sanus VLF410B1 10-Inch Super Slim Full-Motion ...  \n",
       "AVpgMuGwLJeJML43KY_c  Boytone - 2500W 2.1-Ch. Home Theater System - ...  \n",
       "AVpe9FXeLJeJML43zHrq           DENAQ - AC Adapter for TOSHIBA SATELLITE  \n",
       "AVpfVJXu1cnluZ0-iwTT  DreamWave - Tremor Portable Bluetooth Speaker ...  \n",
       "AVphUeKeilAPnD_x3-Be  NS-SP1800BL 5.1-Channel Home Theater System (B...  "
      ]
     },
     "execution_count": 10,
     "metadata": {},
     "output_type": "execute_result"
    }
   ],
   "source": [
    "df.head()"
   ]
  },
  {
   "cell_type": "markdown",
   "metadata": {},
   "source": [
    "![green-divider](https://user-images.githubusercontent.com/7065401/52071924-c003ad80-2562-11e9-8297-1c6595f8a7ff.png)\n",
    "\n",
    "# Selecting specific sheets\n",
    "\n",
    "Excel files quite often have multiple sheets and the ability to read a specific sheet or all of them is very important. To make this easy, the pandas `read_excel` method takes an argument called `sheet_name` that tells pandas which sheet to read in the data from.\n",
    "\n",
    "For this, you can either use the sheet name or the sheet number. Sheet numbers start with zero. The first sheet will be the one loaded by default. You can change sheet by specifying `sheet_name` parameter."
   ]
  },
  {
   "cell_type": "code",
   "execution_count": 12,
   "metadata": {},
   "outputs": [],
   "source": [
    "products = pd.read_excel('data/products.xlsx',\n",
    "                         sheet_name='Products',\n",
    "                         index_col='product_id')"
   ]
  },
  {
   "cell_type": "code",
   "execution_count": 13,
   "metadata": {},
   "outputs": [
    {
     "data": {
      "text/html": [
       "<div>\n",
       "<style scoped>\n",
       "    .dataframe tbody tr th:only-of-type {\n",
       "        vertical-align: middle;\n",
       "    }\n",
       "\n",
       "    .dataframe tbody tr th {\n",
       "        vertical-align: top;\n",
       "    }\n",
       "\n",
       "    .dataframe thead th {\n",
       "        text-align: right;\n",
       "    }\n",
       "</style>\n",
       "<table border=\"1\" class=\"dataframe\">\n",
       "  <thead>\n",
       "    <tr style=\"text-align: right;\">\n",
       "      <th></th>\n",
       "      <th>price</th>\n",
       "      <th>merchant_id</th>\n",
       "      <th>brand</th>\n",
       "      <th>name</th>\n",
       "    </tr>\n",
       "    <tr>\n",
       "      <th>product_id</th>\n",
       "      <th></th>\n",
       "      <th></th>\n",
       "      <th></th>\n",
       "      <th></th>\n",
       "    </tr>\n",
       "  </thead>\n",
       "  <tbody>\n",
       "    <tr>\n",
       "      <th>AVphzgbJLJeJML43fA0o</th>\n",
       "      <td>104.99</td>\n",
       "      <td>1001</td>\n",
       "      <td>Sanus</td>\n",
       "      <td>Sanus VLF410B1 10-Inch Super Slim Full-Motion ...</td>\n",
       "    </tr>\n",
       "    <tr>\n",
       "      <th>AVpgMuGwLJeJML43KY_c</th>\n",
       "      <td>69.00</td>\n",
       "      <td>1002</td>\n",
       "      <td>Boytone</td>\n",
       "      <td>Boytone - 2500W 2.1-Ch. Home Theater System - ...</td>\n",
       "    </tr>\n",
       "    <tr>\n",
       "      <th>AVpe9FXeLJeJML43zHrq</th>\n",
       "      <td>23.99</td>\n",
       "      <td>1001</td>\n",
       "      <td>DENAQ</td>\n",
       "      <td>DENAQ - AC Adapter for TOSHIBA SATELLITE</td>\n",
       "    </tr>\n",
       "    <tr>\n",
       "      <th>AVpfVJXu1cnluZ0-iwTT</th>\n",
       "      <td>290.99</td>\n",
       "      <td>1001</td>\n",
       "      <td>DreamWave</td>\n",
       "      <td>DreamWave - Tremor Portable Bluetooth Speaker ...</td>\n",
       "    </tr>\n",
       "    <tr>\n",
       "      <th>AVphUeKeilAPnD_x3-Be</th>\n",
       "      <td>244.01</td>\n",
       "      <td>1004</td>\n",
       "      <td>Yamaha</td>\n",
       "      <td>NS-SP1800BL 5.1-Channel Home Theater System (B...</td>\n",
       "    </tr>\n",
       "  </tbody>\n",
       "</table>\n",
       "</div>"
      ],
      "text/plain": [
       "                       price  merchant_id      brand  \\\n",
       "product_id                                             \n",
       "AVphzgbJLJeJML43fA0o  104.99         1001      Sanus   \n",
       "AVpgMuGwLJeJML43KY_c   69.00         1002    Boytone   \n",
       "AVpe9FXeLJeJML43zHrq   23.99         1001      DENAQ   \n",
       "AVpfVJXu1cnluZ0-iwTT  290.99         1001  DreamWave   \n",
       "AVphUeKeilAPnD_x3-Be  244.01         1004     Yamaha   \n",
       "\n",
       "                                                                   name  \n",
       "product_id                                                               \n",
       "AVphzgbJLJeJML43fA0o  Sanus VLF410B1 10-Inch Super Slim Full-Motion ...  \n",
       "AVpgMuGwLJeJML43KY_c  Boytone - 2500W 2.1-Ch. Home Theater System - ...  \n",
       "AVpe9FXeLJeJML43zHrq           DENAQ - AC Adapter for TOSHIBA SATELLITE  \n",
       "AVpfVJXu1cnluZ0-iwTT  DreamWave - Tremor Portable Bluetooth Speaker ...  \n",
       "AVphUeKeilAPnD_x3-Be  NS-SP1800BL 5.1-Channel Home Theater System (B...  "
      ]
     },
     "execution_count": 13,
     "metadata": {},
     "output_type": "execute_result"
    }
   ],
   "source": [
    "products.head()"
   ]
  },
  {
   "cell_type": "code",
   "execution_count": 14,
   "metadata": {
    "scrolled": false
   },
   "outputs": [],
   "source": [
    "merchants = pd.read_excel('data/products.xlsx',\n",
    "                          sheet_name='Merchants',\n",
    "                          index_col='merchant_id')"
   ]
  },
  {
   "cell_type": "code",
   "execution_count": 15,
   "metadata": {},
   "outputs": [
    {
     "data": {
      "text/html": [
       "<div>\n",
       "<style scoped>\n",
       "    .dataframe tbody tr th:only-of-type {\n",
       "        vertical-align: middle;\n",
       "    }\n",
       "\n",
       "    .dataframe tbody tr th {\n",
       "        vertical-align: top;\n",
       "    }\n",
       "\n",
       "    .dataframe thead th {\n",
       "        text-align: right;\n",
       "    }\n",
       "</style>\n",
       "<table border=\"1\" class=\"dataframe\">\n",
       "  <thead>\n",
       "    <tr style=\"text-align: right;\">\n",
       "      <th></th>\n",
       "      <th>merchant</th>\n",
       "    </tr>\n",
       "    <tr>\n",
       "      <th>merchant_id</th>\n",
       "      <th></th>\n",
       "    </tr>\n",
       "  </thead>\n",
       "  <tbody>\n",
       "    <tr>\n",
       "      <th>1001</th>\n",
       "      <td>Bestbuy.com</td>\n",
       "    </tr>\n",
       "    <tr>\n",
       "      <th>1002</th>\n",
       "      <td>Walmart.com</td>\n",
       "    </tr>\n",
       "    <tr>\n",
       "      <th>1003</th>\n",
       "      <td>Bestbuy.com</td>\n",
       "    </tr>\n",
       "    <tr>\n",
       "      <th>1004</th>\n",
       "      <td>Growkart</td>\n",
       "    </tr>\n",
       "    <tr>\n",
       "      <th>1005</th>\n",
       "      <td>bhphotovideo.com</td>\n",
       "    </tr>\n",
       "  </tbody>\n",
       "</table>\n",
       "</div>"
      ],
      "text/plain": [
       "                     merchant\n",
       "merchant_id                  \n",
       "1001              Bestbuy.com\n",
       "1002              Walmart.com\n",
       "1003              Bestbuy.com\n",
       "1004                 Growkart\n",
       "1005         bhphotovideo.com"
      ]
     },
     "execution_count": 15,
     "metadata": {},
     "output_type": "execute_result"
    }
   ],
   "source": [
    "merchants.head()"
   ]
  },
  {
   "cell_type": "markdown",
   "metadata": {},
   "source": [
    "![green-divider](https://user-images.githubusercontent.com/7065401/52071924-c003ad80-2562-11e9-8297-1c6595f8a7ff.png)\n",
    "\n",
    "## The `ExcelFile` class\n",
    "\n",
    "Another approach on reading Excel data is using the `ExcelFile` class for parsing tabular Excel sheets into `DataFrame` objects.\n",
    "\n",
    "This `ExcelFile` will let us work with sheets easily, and will be faster than the previous `read_excel` method."
   ]
  },
  {
   "cell_type": "code",
   "execution_count": 16,
   "metadata": {},
   "outputs": [],
   "source": [
    "# Load data using ExcelFile:\n",
    "excel_file = pd.ExcelFile('data/products.xlsx')"
   ]
  },
  {
   "cell_type": "markdown",
   "metadata": {},
   "source": [
    "We can now explore the sheets on that Excel file with `sheet_names`:"
   ]
  },
  {
   "cell_type": "code",
   "execution_count": 17,
   "metadata": {},
   "outputs": [
    {
     "data": {
      "text/plain": [
       "['Products', 'Descriptions', 'Merchants']"
      ]
     },
     "execution_count": 17,
     "metadata": {},
     "output_type": "execute_result"
    }
   ],
   "source": [
    "# Explore the seets on the excel file\n",
    "excel_file.sheet_names"
   ]
  },
  {
   "cell_type": "markdown",
   "metadata": {},
   "source": [
    "And parse specified sheet(s) into a Pandas' `DataFrame` using ExcelFile's `parse()` method.\n",
    "\n",
    "Everytime we call `parse()` method, we'll need to pass an explicit `sheet_name` parameter indicating which sheet from the Excel file we want to be parsed. First sheet will be parsed by default."
   ]
  },
  {
   "cell_type": "code",
   "execution_count": 20,
   "metadata": {},
   "outputs": [],
   "source": [
    "# The parse() method\n",
    "products = excel_file.parse('Products')"
   ]
  },
  {
   "cell_type": "code",
   "execution_count": 21,
   "metadata": {},
   "outputs": [
    {
     "data": {
      "text/html": [
       "<div>\n",
       "<style scoped>\n",
       "    .dataframe tbody tr th:only-of-type {\n",
       "        vertical-align: middle;\n",
       "    }\n",
       "\n",
       "    .dataframe tbody tr th {\n",
       "        vertical-align: top;\n",
       "    }\n",
       "\n",
       "    .dataframe thead th {\n",
       "        text-align: right;\n",
       "    }\n",
       "</style>\n",
       "<table border=\"1\" class=\"dataframe\">\n",
       "  <thead>\n",
       "    <tr style=\"text-align: right;\">\n",
       "      <th></th>\n",
       "      <th>product_id</th>\n",
       "      <th>price</th>\n",
       "      <th>merchant_id</th>\n",
       "      <th>brand</th>\n",
       "      <th>name</th>\n",
       "    </tr>\n",
       "  </thead>\n",
       "  <tbody>\n",
       "    <tr>\n",
       "      <th>0</th>\n",
       "      <td>AVphzgbJLJeJML43fA0o</td>\n",
       "      <td>104.99</td>\n",
       "      <td>1001</td>\n",
       "      <td>Sanus</td>\n",
       "      <td>Sanus VLF410B1 10-Inch Super Slim Full-Motion ...</td>\n",
       "    </tr>\n",
       "    <tr>\n",
       "      <th>1</th>\n",
       "      <td>AVpgMuGwLJeJML43KY_c</td>\n",
       "      <td>69.00</td>\n",
       "      <td>1002</td>\n",
       "      <td>Boytone</td>\n",
       "      <td>Boytone - 2500W 2.1-Ch. Home Theater System - ...</td>\n",
       "    </tr>\n",
       "    <tr>\n",
       "      <th>2</th>\n",
       "      <td>AVpe9FXeLJeJML43zHrq</td>\n",
       "      <td>23.99</td>\n",
       "      <td>1001</td>\n",
       "      <td>DENAQ</td>\n",
       "      <td>DENAQ - AC Adapter for TOSHIBA SATELLITE</td>\n",
       "    </tr>\n",
       "    <tr>\n",
       "      <th>3</th>\n",
       "      <td>AVpfVJXu1cnluZ0-iwTT</td>\n",
       "      <td>290.99</td>\n",
       "      <td>1001</td>\n",
       "      <td>DreamWave</td>\n",
       "      <td>DreamWave - Tremor Portable Bluetooth Speaker ...</td>\n",
       "    </tr>\n",
       "    <tr>\n",
       "      <th>4</th>\n",
       "      <td>AVphUeKeilAPnD_x3-Be</td>\n",
       "      <td>244.01</td>\n",
       "      <td>1004</td>\n",
       "      <td>Yamaha</td>\n",
       "      <td>NS-SP1800BL 5.1-Channel Home Theater System (B...</td>\n",
       "    </tr>\n",
       "  </tbody>\n",
       "</table>\n",
       "</div>"
      ],
      "text/plain": [
       "             product_id   price  merchant_id      brand  \\\n",
       "0  AVphzgbJLJeJML43fA0o  104.99         1001      Sanus   \n",
       "1  AVpgMuGwLJeJML43KY_c   69.00         1002    Boytone   \n",
       "2  AVpe9FXeLJeJML43zHrq   23.99         1001      DENAQ   \n",
       "3  AVpfVJXu1cnluZ0-iwTT  290.99         1001  DreamWave   \n",
       "4  AVphUeKeilAPnD_x3-Be  244.01         1004     Yamaha   \n",
       "\n",
       "                                                name  \n",
       "0  Sanus VLF410B1 10-Inch Super Slim Full-Motion ...  \n",
       "1  Boytone - 2500W 2.1-Ch. Home Theater System - ...  \n",
       "2           DENAQ - AC Adapter for TOSHIBA SATELLITE  \n",
       "3  DreamWave - Tremor Portable Bluetooth Speaker ...  \n",
       "4  NS-SP1800BL 5.1-Channel Home Theater System (B...  "
      ]
     },
     "execution_count": 21,
     "metadata": {},
     "output_type": "execute_result"
    }
   ],
   "source": [
    "products.head()"
   ]
  },
  {
   "cell_type": "markdown",
   "metadata": {},
   "source": [
    "This `parse()` method has all the parameters we saw before on `read_excel()` method, let's try some of them:"
   ]
  },
  {
   "cell_type": "code",
   "execution_count": 22,
   "metadata": {},
   "outputs": [],
   "source": [
    "products = excel_file.parse(sheet_name='Products',\n",
    "                            header=0,\n",
    "                            index_col='product_id')"
   ]
  },
  {
   "cell_type": "code",
   "execution_count": 23,
   "metadata": {},
   "outputs": [
    {
     "data": {
      "text/html": [
       "<div>\n",
       "<style scoped>\n",
       "    .dataframe tbody tr th:only-of-type {\n",
       "        vertical-align: middle;\n",
       "    }\n",
       "\n",
       "    .dataframe tbody tr th {\n",
       "        vertical-align: top;\n",
       "    }\n",
       "\n",
       "    .dataframe thead th {\n",
       "        text-align: right;\n",
       "    }\n",
       "</style>\n",
       "<table border=\"1\" class=\"dataframe\">\n",
       "  <thead>\n",
       "    <tr style=\"text-align: right;\">\n",
       "      <th></th>\n",
       "      <th>price</th>\n",
       "      <th>merchant_id</th>\n",
       "      <th>brand</th>\n",
       "      <th>name</th>\n",
       "    </tr>\n",
       "    <tr>\n",
       "      <th>product_id</th>\n",
       "      <th></th>\n",
       "      <th></th>\n",
       "      <th></th>\n",
       "      <th></th>\n",
       "    </tr>\n",
       "  </thead>\n",
       "  <tbody>\n",
       "    <tr>\n",
       "      <th>AVphzgbJLJeJML43fA0o</th>\n",
       "      <td>104.99</td>\n",
       "      <td>1001</td>\n",
       "      <td>Sanus</td>\n",
       "      <td>Sanus VLF410B1 10-Inch Super Slim Full-Motion ...</td>\n",
       "    </tr>\n",
       "    <tr>\n",
       "      <th>AVpgMuGwLJeJML43KY_c</th>\n",
       "      <td>69.00</td>\n",
       "      <td>1002</td>\n",
       "      <td>Boytone</td>\n",
       "      <td>Boytone - 2500W 2.1-Ch. Home Theater System - ...</td>\n",
       "    </tr>\n",
       "    <tr>\n",
       "      <th>AVpe9FXeLJeJML43zHrq</th>\n",
       "      <td>23.99</td>\n",
       "      <td>1001</td>\n",
       "      <td>DENAQ</td>\n",
       "      <td>DENAQ - AC Adapter for TOSHIBA SATELLITE</td>\n",
       "    </tr>\n",
       "    <tr>\n",
       "      <th>AVpfVJXu1cnluZ0-iwTT</th>\n",
       "      <td>290.99</td>\n",
       "      <td>1001</td>\n",
       "      <td>DreamWave</td>\n",
       "      <td>DreamWave - Tremor Portable Bluetooth Speaker ...</td>\n",
       "    </tr>\n",
       "    <tr>\n",
       "      <th>AVphUeKeilAPnD_x3-Be</th>\n",
       "      <td>244.01</td>\n",
       "      <td>1004</td>\n",
       "      <td>Yamaha</td>\n",
       "      <td>NS-SP1800BL 5.1-Channel Home Theater System (B...</td>\n",
       "    </tr>\n",
       "  </tbody>\n",
       "</table>\n",
       "</div>"
      ],
      "text/plain": [
       "                       price  merchant_id      brand  \\\n",
       "product_id                                             \n",
       "AVphzgbJLJeJML43fA0o  104.99         1001      Sanus   \n",
       "AVpgMuGwLJeJML43KY_c   69.00         1002    Boytone   \n",
       "AVpe9FXeLJeJML43zHrq   23.99         1001      DENAQ   \n",
       "AVpfVJXu1cnluZ0-iwTT  290.99         1001  DreamWave   \n",
       "AVphUeKeilAPnD_x3-Be  244.01         1004     Yamaha   \n",
       "\n",
       "                                                                   name  \n",
       "product_id                                                               \n",
       "AVphzgbJLJeJML43fA0o  Sanus VLF410B1 10-Inch Super Slim Full-Motion ...  \n",
       "AVpgMuGwLJeJML43KY_c  Boytone - 2500W 2.1-Ch. Home Theater System - ...  \n",
       "AVpe9FXeLJeJML43zHrq           DENAQ - AC Adapter for TOSHIBA SATELLITE  \n",
       "AVpfVJXu1cnluZ0-iwTT  DreamWave - Tremor Portable Bluetooth Speaker ...  \n",
       "AVphUeKeilAPnD_x3-Be  NS-SP1800BL 5.1-Channel Home Theater System (B...  "
      ]
     },
     "execution_count": 23,
     "metadata": {},
     "output_type": "execute_result"
    }
   ],
   "source": [
    "products.head()"
   ]
  },
  {
   "cell_type": "code",
   "execution_count": 24,
   "metadata": {},
   "outputs": [
    {
     "data": {
      "text/plain": [
       "price          float64\n",
       "merchant_id      int64\n",
       "brand           object\n",
       "name            object\n",
       "dtype: object"
      ]
     },
     "execution_count": 24,
     "metadata": {},
     "output_type": "execute_result"
    }
   ],
   "source": [
    "products.dtypes"
   ]
  },
  {
   "cell_type": "code",
   "execution_count": 25,
   "metadata": {},
   "outputs": [],
   "source": [
    "merchants = excel_file.parse('Merchants',\n",
    "                             index_col='merchant_id')"
   ]
  },
  {
   "cell_type": "code",
   "execution_count": 26,
   "metadata": {},
   "outputs": [
    {
     "data": {
      "text/html": [
       "<div>\n",
       "<style scoped>\n",
       "    .dataframe tbody tr th:only-of-type {\n",
       "        vertical-align: middle;\n",
       "    }\n",
       "\n",
       "    .dataframe tbody tr th {\n",
       "        vertical-align: top;\n",
       "    }\n",
       "\n",
       "    .dataframe thead th {\n",
       "        text-align: right;\n",
       "    }\n",
       "</style>\n",
       "<table border=\"1\" class=\"dataframe\">\n",
       "  <thead>\n",
       "    <tr style=\"text-align: right;\">\n",
       "      <th></th>\n",
       "      <th>merchant</th>\n",
       "    </tr>\n",
       "    <tr>\n",
       "      <th>merchant_id</th>\n",
       "      <th></th>\n",
       "    </tr>\n",
       "  </thead>\n",
       "  <tbody>\n",
       "    <tr>\n",
       "      <th>1001</th>\n",
       "      <td>Bestbuy.com</td>\n",
       "    </tr>\n",
       "    <tr>\n",
       "      <th>1002</th>\n",
       "      <td>Walmart.com</td>\n",
       "    </tr>\n",
       "    <tr>\n",
       "      <th>1003</th>\n",
       "      <td>Bestbuy.com</td>\n",
       "    </tr>\n",
       "    <tr>\n",
       "      <th>1004</th>\n",
       "      <td>Growkart</td>\n",
       "    </tr>\n",
       "    <tr>\n",
       "      <th>1005</th>\n",
       "      <td>bhphotovideo.com</td>\n",
       "    </tr>\n",
       "  </tbody>\n",
       "</table>\n",
       "</div>"
      ],
      "text/plain": [
       "                     merchant\n",
       "merchant_id                  \n",
       "1001              Bestbuy.com\n",
       "1002              Walmart.com\n",
       "1003              Bestbuy.com\n",
       "1004                 Growkart\n",
       "1005         bhphotovideo.com"
      ]
     },
     "execution_count": 26,
     "metadata": {},
     "output_type": "execute_result"
    }
   ],
   "source": [
    "merchants.head()"
   ]
  },
  {
   "cell_type": "code",
   "execution_count": 27,
   "metadata": {},
   "outputs": [
    {
     "data": {
      "text/plain": [
       "merchant    object\n",
       "dtype: object"
      ]
     },
     "execution_count": 27,
     "metadata": {},
     "output_type": "execute_result"
    }
   ],
   "source": [
    "merchants.dtypes"
   ]
  },
  {
   "cell_type": "markdown",
   "metadata": {},
   "source": [
    "![green-divider](https://user-images.githubusercontent.com/7065401/52071924-c003ad80-2562-11e9-8297-1c6595f8a7ff.png)\n",
    "\n",
    "## Save to Excel file\n",
    "\n",
    "Finally we can save our `DataFrame` as a Excel file."
   ]
  },
  {
   "cell_type": "code",
   "execution_count": 28,
   "metadata": {},
   "outputs": [
    {
     "data": {
      "text/html": [
       "<div>\n",
       "<style scoped>\n",
       "    .dataframe tbody tr th:only-of-type {\n",
       "        vertical-align: middle;\n",
       "    }\n",
       "\n",
       "    .dataframe tbody tr th {\n",
       "        vertical-align: top;\n",
       "    }\n",
       "\n",
       "    .dataframe thead th {\n",
       "        text-align: right;\n",
       "    }\n",
       "</style>\n",
       "<table border=\"1\" class=\"dataframe\">\n",
       "  <thead>\n",
       "    <tr style=\"text-align: right;\">\n",
       "      <th></th>\n",
       "      <th>price</th>\n",
       "      <th>merchant_id</th>\n",
       "      <th>brand</th>\n",
       "      <th>name</th>\n",
       "    </tr>\n",
       "    <tr>\n",
       "      <th>product_id</th>\n",
       "      <th></th>\n",
       "      <th></th>\n",
       "      <th></th>\n",
       "      <th></th>\n",
       "    </tr>\n",
       "  </thead>\n",
       "  <tbody>\n",
       "    <tr>\n",
       "      <th>AVphzgbJLJeJML43fA0o</th>\n",
       "      <td>104.99</td>\n",
       "      <td>1001</td>\n",
       "      <td>Sanus</td>\n",
       "      <td>Sanus VLF410B1 10-Inch Super Slim Full-Motion ...</td>\n",
       "    </tr>\n",
       "    <tr>\n",
       "      <th>AVpgMuGwLJeJML43KY_c</th>\n",
       "      <td>69.00</td>\n",
       "      <td>1002</td>\n",
       "      <td>Boytone</td>\n",
       "      <td>Boytone - 2500W 2.1-Ch. Home Theater System - ...</td>\n",
       "    </tr>\n",
       "    <tr>\n",
       "      <th>AVpe9FXeLJeJML43zHrq</th>\n",
       "      <td>23.99</td>\n",
       "      <td>1001</td>\n",
       "      <td>DENAQ</td>\n",
       "      <td>DENAQ - AC Adapter for TOSHIBA SATELLITE</td>\n",
       "    </tr>\n",
       "    <tr>\n",
       "      <th>AVpfVJXu1cnluZ0-iwTT</th>\n",
       "      <td>290.99</td>\n",
       "      <td>1001</td>\n",
       "      <td>DreamWave</td>\n",
       "      <td>DreamWave - Tremor Portable Bluetooth Speaker ...</td>\n",
       "    </tr>\n",
       "    <tr>\n",
       "      <th>AVphUeKeilAPnD_x3-Be</th>\n",
       "      <td>244.01</td>\n",
       "      <td>1004</td>\n",
       "      <td>Yamaha</td>\n",
       "      <td>NS-SP1800BL 5.1-Channel Home Theater System (B...</td>\n",
       "    </tr>\n",
       "  </tbody>\n",
       "</table>\n",
       "</div>"
      ],
      "text/plain": [
       "                       price  merchant_id      brand  \\\n",
       "product_id                                             \n",
       "AVphzgbJLJeJML43fA0o  104.99         1001      Sanus   \n",
       "AVpgMuGwLJeJML43KY_c   69.00         1002    Boytone   \n",
       "AVpe9FXeLJeJML43zHrq   23.99         1001      DENAQ   \n",
       "AVpfVJXu1cnluZ0-iwTT  290.99         1001  DreamWave   \n",
       "AVphUeKeilAPnD_x3-Be  244.01         1004     Yamaha   \n",
       "\n",
       "                                                                   name  \n",
       "product_id                                                               \n",
       "AVphzgbJLJeJML43fA0o  Sanus VLF410B1 10-Inch Super Slim Full-Motion ...  \n",
       "AVpgMuGwLJeJML43KY_c  Boytone - 2500W 2.1-Ch. Home Theater System - ...  \n",
       "AVpe9FXeLJeJML43zHrq           DENAQ - AC Adapter for TOSHIBA SATELLITE  \n",
       "AVpfVJXu1cnluZ0-iwTT  DreamWave - Tremor Portable Bluetooth Speaker ...  \n",
       "AVphUeKeilAPnD_x3-Be  NS-SP1800BL 5.1-Channel Home Theater System (B...  "
      ]
     },
     "execution_count": 28,
     "metadata": {},
     "output_type": "execute_result"
    }
   ],
   "source": [
    "products.head()"
   ]
  },
  {
   "cell_type": "markdown",
   "metadata": {},
   "source": [
    "A fast, simple way to write a single `DataFrame` to an Excel file is to use the `to_excel()` method of the `DataFrame` directly.\n",
    "\n",
    "Note that it's required to pass a output file path.\n",
    "\n",
    "> The `OpenPyXL - openpyxl` library should be installed in order to save Excel files. `pip install openpyxl`"
   ]
  },
  {
   "cell_type": "code",
   "execution_count": 29,
   "metadata": {},
   "outputs": [],
   "source": [
    "products.to_excel('data/out.xlsx')"
   ]
  },
  {
   "cell_type": "code",
   "execution_count": 30,
   "metadata": {},
   "outputs": [
    {
     "data": {
      "text/html": [
       "<div>\n",
       "<style scoped>\n",
       "    .dataframe tbody tr th:only-of-type {\n",
       "        vertical-align: middle;\n",
       "    }\n",
       "\n",
       "    .dataframe tbody tr th {\n",
       "        vertical-align: top;\n",
       "    }\n",
       "\n",
       "    .dataframe thead th {\n",
       "        text-align: right;\n",
       "    }\n",
       "</style>\n",
       "<table border=\"1\" class=\"dataframe\">\n",
       "  <thead>\n",
       "    <tr style=\"text-align: right;\">\n",
       "      <th></th>\n",
       "      <th>product_id</th>\n",
       "      <th>price</th>\n",
       "      <th>merchant_id</th>\n",
       "      <th>brand</th>\n",
       "      <th>name</th>\n",
       "    </tr>\n",
       "  </thead>\n",
       "  <tbody>\n",
       "    <tr>\n",
       "      <th>0</th>\n",
       "      <td>AVphzgbJLJeJML43fA0o</td>\n",
       "      <td>104.99</td>\n",
       "      <td>1001</td>\n",
       "      <td>Sanus</td>\n",
       "      <td>Sanus VLF410B1 10-Inch Super Slim Full-Motion ...</td>\n",
       "    </tr>\n",
       "    <tr>\n",
       "      <th>1</th>\n",
       "      <td>AVpgMuGwLJeJML43KY_c</td>\n",
       "      <td>69.00</td>\n",
       "      <td>1002</td>\n",
       "      <td>Boytone</td>\n",
       "      <td>Boytone - 2500W 2.1-Ch. Home Theater System - ...</td>\n",
       "    </tr>\n",
       "    <tr>\n",
       "      <th>2</th>\n",
       "      <td>AVpe9FXeLJeJML43zHrq</td>\n",
       "      <td>23.99</td>\n",
       "      <td>1001</td>\n",
       "      <td>DENAQ</td>\n",
       "      <td>DENAQ - AC Adapter for TOSHIBA SATELLITE</td>\n",
       "    </tr>\n",
       "    <tr>\n",
       "      <th>3</th>\n",
       "      <td>AVpfVJXu1cnluZ0-iwTT</td>\n",
       "      <td>290.99</td>\n",
       "      <td>1001</td>\n",
       "      <td>DreamWave</td>\n",
       "      <td>DreamWave - Tremor Portable Bluetooth Speaker ...</td>\n",
       "    </tr>\n",
       "    <tr>\n",
       "      <th>4</th>\n",
       "      <td>AVphUeKeilAPnD_x3-Be</td>\n",
       "      <td>244.01</td>\n",
       "      <td>1004</td>\n",
       "      <td>Yamaha</td>\n",
       "      <td>NS-SP1800BL 5.1-Channel Home Theater System (B...</td>\n",
       "    </tr>\n",
       "  </tbody>\n",
       "</table>\n",
       "</div>"
      ],
      "text/plain": [
       "             product_id   price  merchant_id      brand  \\\n",
       "0  AVphzgbJLJeJML43fA0o  104.99         1001      Sanus   \n",
       "1  AVpgMuGwLJeJML43KY_c   69.00         1002    Boytone   \n",
       "2  AVpe9FXeLJeJML43zHrq   23.99         1001      DENAQ   \n",
       "3  AVpfVJXu1cnluZ0-iwTT  290.99         1001  DreamWave   \n",
       "4  AVphUeKeilAPnD_x3-Be  244.01         1004     Yamaha   \n",
       "\n",
       "                                                name  \n",
       "0  Sanus VLF410B1 10-Inch Super Slim Full-Motion ...  \n",
       "1  Boytone - 2500W 2.1-Ch. Home Theater System - ...  \n",
       "2           DENAQ - AC Adapter for TOSHIBA SATELLITE  \n",
       "3  DreamWave - Tremor Portable Bluetooth Speaker ...  \n",
       "4  NS-SP1800BL 5.1-Channel Home Theater System (B...  "
      ]
     },
     "execution_count": 30,
     "metadata": {},
     "output_type": "execute_result"
    }
   ],
   "source": [
    "pd.read_excel('data/out.xlsx').head()"
   ]
  },
  {
   "cell_type": "markdown",
   "metadata": {},
   "source": [
    "We can specify the sheet name with `sheet_name` parameter:"
   ]
  },
  {
   "cell_type": "code",
   "execution_count": 31,
   "metadata": {},
   "outputs": [],
   "source": [
    "products.to_excel('data/out.xlsx',\n",
    "                  sheet_name='Products')"
   ]
  },
  {
   "cell_type": "markdown",
   "metadata": {},
   "source": [
    "Further calls of `to_excel` with different sheet names will only overwrite the first sheet instead of adding additional sheets.\n",
    "\n",
    "Also, be aware that by removing the index, we'll lose that column."
   ]
  },
  {
   "cell_type": "code",
   "execution_count": 32,
   "metadata": {},
   "outputs": [],
   "source": [
    "products.to_excel('data/out.xlsx',\n",
    "                  index=None)"
   ]
  },
  {
   "cell_type": "code",
   "execution_count": 33,
   "metadata": {
    "scrolled": false
   },
   "outputs": [
    {
     "data": {
      "text/html": [
       "<div>\n",
       "<style scoped>\n",
       "    .dataframe tbody tr th:only-of-type {\n",
       "        vertical-align: middle;\n",
       "    }\n",
       "\n",
       "    .dataframe tbody tr th {\n",
       "        vertical-align: top;\n",
       "    }\n",
       "\n",
       "    .dataframe thead th {\n",
       "        text-align: right;\n",
       "    }\n",
       "</style>\n",
       "<table border=\"1\" class=\"dataframe\">\n",
       "  <thead>\n",
       "    <tr style=\"text-align: right;\">\n",
       "      <th></th>\n",
       "      <th>price</th>\n",
       "      <th>merchant_id</th>\n",
       "      <th>brand</th>\n",
       "      <th>name</th>\n",
       "    </tr>\n",
       "  </thead>\n",
       "  <tbody>\n",
       "    <tr>\n",
       "      <th>0</th>\n",
       "      <td>104.99</td>\n",
       "      <td>1001</td>\n",
       "      <td>Sanus</td>\n",
       "      <td>Sanus VLF410B1 10-Inch Super Slim Full-Motion ...</td>\n",
       "    </tr>\n",
       "    <tr>\n",
       "      <th>1</th>\n",
       "      <td>69.00</td>\n",
       "      <td>1002</td>\n",
       "      <td>Boytone</td>\n",
       "      <td>Boytone - 2500W 2.1-Ch. Home Theater System - ...</td>\n",
       "    </tr>\n",
       "    <tr>\n",
       "      <th>2</th>\n",
       "      <td>23.99</td>\n",
       "      <td>1001</td>\n",
       "      <td>DENAQ</td>\n",
       "      <td>DENAQ - AC Adapter for TOSHIBA SATELLITE</td>\n",
       "    </tr>\n",
       "    <tr>\n",
       "      <th>3</th>\n",
       "      <td>290.99</td>\n",
       "      <td>1001</td>\n",
       "      <td>DreamWave</td>\n",
       "      <td>DreamWave - Tremor Portable Bluetooth Speaker ...</td>\n",
       "    </tr>\n",
       "    <tr>\n",
       "      <th>4</th>\n",
       "      <td>244.01</td>\n",
       "      <td>1004</td>\n",
       "      <td>Yamaha</td>\n",
       "      <td>NS-SP1800BL 5.1-Channel Home Theater System (B...</td>\n",
       "    </tr>\n",
       "  </tbody>\n",
       "</table>\n",
       "</div>"
      ],
      "text/plain": [
       "    price  merchant_id      brand  \\\n",
       "0  104.99         1001      Sanus   \n",
       "1   69.00         1002    Boytone   \n",
       "2   23.99         1001      DENAQ   \n",
       "3  290.99         1001  DreamWave   \n",
       "4  244.01         1004     Yamaha   \n",
       "\n",
       "                                                name  \n",
       "0  Sanus VLF410B1 10-Inch Super Slim Full-Motion ...  \n",
       "1  Boytone - 2500W 2.1-Ch. Home Theater System - ...  \n",
       "2           DENAQ - AC Adapter for TOSHIBA SATELLITE  \n",
       "3  DreamWave - Tremor Portable Bluetooth Speaker ...  \n",
       "4  NS-SP1800BL 5.1-Channel Home Theater System (B...  "
      ]
     },
     "execution_count": 33,
     "metadata": {},
     "output_type": "execute_result"
    }
   ],
   "source": [
    "pd.read_excel('data/out.xlsx').head()"
   ]
  },
  {
   "cell_type": "markdown",
   "metadata": {},
   "source": [
    "![green-divider](https://user-images.githubusercontent.com/7065401/52071924-c003ad80-2562-11e9-8297-1c6595f8a7ff.png)\n",
    "\n",
    "## Positioning Data with `startrow` and `startcol`\n",
    "\n",
    "Suppose we wanted to insert the our data into the spreadsheet file in a position somewhere other than the top-left corner.\n",
    "\n",
    "We can shift where the `to_excel` method writes the data by using `startrow` to set the cell after which the first row will be printed, and `startcol` to set which cell after which the first column will be printed."
   ]
  },
  {
   "cell_type": "markdown",
   "metadata": {},
   "source": [
    "<img src=\"https://user-images.githubusercontent.com/7065401/68594890-41378b80-0477-11ea-9ae4-ff87e5e1128d.png\" />"
   ]
  },
  {
   "cell_type": "code",
   "execution_count": 34,
   "metadata": {},
   "outputs": [],
   "source": [
    "# Example below:\n",
    "products.to_excel('data/out.xlsx',\n",
    "                  sheet_name='Products',\n",
    "                  startrow=1,\n",
    "                  startcol=2)"
   ]
  },
  {
   "cell_type": "markdown",
   "metadata": {},
   "source": [
    "<img src=\"https://user-images.githubusercontent.com/7065401/68594828-249b5380-0477-11ea-87d7-af694c09f2d2.png\" />"
   ]
  },
  {
   "cell_type": "markdown",
   "metadata": {},
   "source": [
    "![green-divider](https://user-images.githubusercontent.com/7065401/52071924-c003ad80-2562-11e9-8297-1c6595f8a7ff.png)\n",
    "\n",
    "## Saving multiple sheets\n",
    "\n",
    "If we wanted to write a single `DataFrame` to a single sheet with default formatting then we are done. However, if we want to write multiple sheets and/or multiple `DataFrame`s, then we will need to create an `ExcelWriter` object.\n",
    "\n",
    "The `ExcelWriter` object is included in the Pandas module and is used to open Excel files and handle write operations. This object behaves almost exactly like the vanilla Python `open` object that we used on previous courses and can be used within a `with` block.\n",
    "\n",
    "> When the `ExcelWriter` object is executed, any existing file with the same name as the output file will be overwritten."
   ]
  },
  {
   "cell_type": "code",
   "execution_count": 35,
   "metadata": {},
   "outputs": [],
   "source": [
    "writer = pd.ExcelWriter('data/out.xlsx')"
   ]
  },
  {
   "cell_type": "code",
   "execution_count": 36,
   "metadata": {},
   "outputs": [
    {
     "data": {
      "text/plain": [
       "<pandas.io.excel._xlsxwriter._XlsxWriter at 0x257f3188788>"
      ]
     },
     "execution_count": 36,
     "metadata": {},
     "output_type": "execute_result"
    }
   ],
   "source": [
    "writer"
   ]
  },
  {
   "cell_type": "markdown",
   "metadata": {},
   "source": [
    "Instead of including the file pathname in the `to_excel` call, we will use the `ExcelWriter` object `writer` instead."
   ]
  },
  {
   "cell_type": "code",
   "execution_count": 37,
   "metadata": {},
   "outputs": [],
   "source": [
    "with writer:\n",
    "    products.to_excel(writer, sheet_name='Products')"
   ]
  },
  {
   "cell_type": "code",
   "execution_count": 39,
   "metadata": {},
   "outputs": [
    {
     "data": {
      "text/html": [
       "<div>\n",
       "<style scoped>\n",
       "    .dataframe tbody tr th:only-of-type {\n",
       "        vertical-align: middle;\n",
       "    }\n",
       "\n",
       "    .dataframe tbody tr th {\n",
       "        vertical-align: top;\n",
       "    }\n",
       "\n",
       "    .dataframe thead th {\n",
       "        text-align: right;\n",
       "    }\n",
       "</style>\n",
       "<table border=\"1\" class=\"dataframe\">\n",
       "  <thead>\n",
       "    <tr style=\"text-align: right;\">\n",
       "      <th></th>\n",
       "      <th>product_id</th>\n",
       "      <th>price</th>\n",
       "      <th>merchant_id</th>\n",
       "      <th>brand</th>\n",
       "      <th>name</th>\n",
       "    </tr>\n",
       "  </thead>\n",
       "  <tbody>\n",
       "    <tr>\n",
       "      <th>0</th>\n",
       "      <td>AVphzgbJLJeJML43fA0o</td>\n",
       "      <td>104.99</td>\n",
       "      <td>1001</td>\n",
       "      <td>Sanus</td>\n",
       "      <td>Sanus VLF410B1 10-Inch Super Slim Full-Motion ...</td>\n",
       "    </tr>\n",
       "    <tr>\n",
       "      <th>1</th>\n",
       "      <td>AVpgMuGwLJeJML43KY_c</td>\n",
       "      <td>69.00</td>\n",
       "      <td>1002</td>\n",
       "      <td>Boytone</td>\n",
       "      <td>Boytone - 2500W 2.1-Ch. Home Theater System - ...</td>\n",
       "    </tr>\n",
       "    <tr>\n",
       "      <th>2</th>\n",
       "      <td>AVpe9FXeLJeJML43zHrq</td>\n",
       "      <td>23.99</td>\n",
       "      <td>1001</td>\n",
       "      <td>DENAQ</td>\n",
       "      <td>DENAQ - AC Adapter for TOSHIBA SATELLITE</td>\n",
       "    </tr>\n",
       "    <tr>\n",
       "      <th>3</th>\n",
       "      <td>AVpfVJXu1cnluZ0-iwTT</td>\n",
       "      <td>290.99</td>\n",
       "      <td>1001</td>\n",
       "      <td>DreamWave</td>\n",
       "      <td>DreamWave - Tremor Portable Bluetooth Speaker ...</td>\n",
       "    </tr>\n",
       "    <tr>\n",
       "      <th>4</th>\n",
       "      <td>AVphUeKeilAPnD_x3-Be</td>\n",
       "      <td>244.01</td>\n",
       "      <td>1004</td>\n",
       "      <td>Yamaha</td>\n",
       "      <td>NS-SP1800BL 5.1-Channel Home Theater System (B...</td>\n",
       "    </tr>\n",
       "  </tbody>\n",
       "</table>\n",
       "</div>"
      ],
      "text/plain": [
       "             product_id   price  merchant_id      brand  \\\n",
       "0  AVphzgbJLJeJML43fA0o  104.99         1001      Sanus   \n",
       "1  AVpgMuGwLJeJML43KY_c   69.00         1002    Boytone   \n",
       "2  AVpe9FXeLJeJML43zHrq   23.99         1001      DENAQ   \n",
       "3  AVpfVJXu1cnluZ0-iwTT  290.99         1001  DreamWave   \n",
       "4  AVphUeKeilAPnD_x3-Be  244.01         1004     Yamaha   \n",
       "\n",
       "                                                name  \n",
       "0  Sanus VLF410B1 10-Inch Super Slim Full-Motion ...  \n",
       "1  Boytone - 2500W 2.1-Ch. Home Theater System - ...  \n",
       "2           DENAQ - AC Adapter for TOSHIBA SATELLITE  \n",
       "3  DreamWave - Tremor Portable Bluetooth Speaker ...  \n",
       "4  NS-SP1800BL 5.1-Channel Home Theater System (B...  "
      ]
     },
     "execution_count": 39,
     "metadata": {},
     "output_type": "execute_result"
    }
   ],
   "source": [
    "pd.read_excel('data/out.xlsx', sheet_name='Products').head()"
   ]
  },
  {
   "cell_type": "markdown",
   "metadata": {},
   "source": [
    "We can now add another `Merchants` sheet simply using the `writer` object:"
   ]
  },
  {
   "cell_type": "code",
   "execution_count": 40,
   "metadata": {},
   "outputs": [],
   "source": [
    "with writer:\n",
    "    merchants.to_excel(writer, sheet_name='Merchants')"
   ]
  },
  {
   "cell_type": "code",
   "execution_count": 41,
   "metadata": {},
   "outputs": [
    {
     "data": {
      "text/html": [
       "<div>\n",
       "<style scoped>\n",
       "    .dataframe tbody tr th:only-of-type {\n",
       "        vertical-align: middle;\n",
       "    }\n",
       "\n",
       "    .dataframe tbody tr th {\n",
       "        vertical-align: top;\n",
       "    }\n",
       "\n",
       "    .dataframe thead th {\n",
       "        text-align: right;\n",
       "    }\n",
       "</style>\n",
       "<table border=\"1\" class=\"dataframe\">\n",
       "  <thead>\n",
       "    <tr style=\"text-align: right;\">\n",
       "      <th></th>\n",
       "      <th>product_id</th>\n",
       "      <th>price</th>\n",
       "      <th>merchant_id</th>\n",
       "      <th>brand</th>\n",
       "      <th>name</th>\n",
       "    </tr>\n",
       "  </thead>\n",
       "  <tbody>\n",
       "    <tr>\n",
       "      <th>0</th>\n",
       "      <td>AVphzgbJLJeJML43fA0o</td>\n",
       "      <td>104.99</td>\n",
       "      <td>1001</td>\n",
       "      <td>Sanus</td>\n",
       "      <td>Sanus VLF410B1 10-Inch Super Slim Full-Motion ...</td>\n",
       "    </tr>\n",
       "    <tr>\n",
       "      <th>1</th>\n",
       "      <td>AVpgMuGwLJeJML43KY_c</td>\n",
       "      <td>69.00</td>\n",
       "      <td>1002</td>\n",
       "      <td>Boytone</td>\n",
       "      <td>Boytone - 2500W 2.1-Ch. Home Theater System - ...</td>\n",
       "    </tr>\n",
       "    <tr>\n",
       "      <th>2</th>\n",
       "      <td>AVpe9FXeLJeJML43zHrq</td>\n",
       "      <td>23.99</td>\n",
       "      <td>1001</td>\n",
       "      <td>DENAQ</td>\n",
       "      <td>DENAQ - AC Adapter for TOSHIBA SATELLITE</td>\n",
       "    </tr>\n",
       "    <tr>\n",
       "      <th>3</th>\n",
       "      <td>AVpfVJXu1cnluZ0-iwTT</td>\n",
       "      <td>290.99</td>\n",
       "      <td>1001</td>\n",
       "      <td>DreamWave</td>\n",
       "      <td>DreamWave - Tremor Portable Bluetooth Speaker ...</td>\n",
       "    </tr>\n",
       "    <tr>\n",
       "      <th>4</th>\n",
       "      <td>AVphUeKeilAPnD_x3-Be</td>\n",
       "      <td>244.01</td>\n",
       "      <td>1004</td>\n",
       "      <td>Yamaha</td>\n",
       "      <td>NS-SP1800BL 5.1-Channel Home Theater System (B...</td>\n",
       "    </tr>\n",
       "  </tbody>\n",
       "</table>\n",
       "</div>"
      ],
      "text/plain": [
       "             product_id   price  merchant_id      brand  \\\n",
       "0  AVphzgbJLJeJML43fA0o  104.99         1001      Sanus   \n",
       "1  AVpgMuGwLJeJML43KY_c   69.00         1002    Boytone   \n",
       "2  AVpe9FXeLJeJML43zHrq   23.99         1001      DENAQ   \n",
       "3  AVpfVJXu1cnluZ0-iwTT  290.99         1001  DreamWave   \n",
       "4  AVphUeKeilAPnD_x3-Be  244.01         1004     Yamaha   \n",
       "\n",
       "                                                name  \n",
       "0  Sanus VLF410B1 10-Inch Super Slim Full-Motion ...  \n",
       "1  Boytone - 2500W 2.1-Ch. Home Theater System - ...  \n",
       "2           DENAQ - AC Adapter for TOSHIBA SATELLITE  \n",
       "3  DreamWave - Tremor Portable Bluetooth Speaker ...  \n",
       "4  NS-SP1800BL 5.1-Channel Home Theater System (B...  "
      ]
     },
     "execution_count": 41,
     "metadata": {},
     "output_type": "execute_result"
    }
   ],
   "source": [
    "pd.read_excel('data/out.xlsx', sheet_name='Products').head()"
   ]
  },
  {
   "cell_type": "code",
   "execution_count": null,
   "metadata": {},
   "outputs": [],
   "source": [
    "pd.read_excel('data/out.xlsx', sheet_name='Merchants').head()"
   ]
  },
  {
   "cell_type": "markdown",
   "metadata": {},
   "source": [
    "Or we can save multiple sheets at the same time:"
   ]
  },
  {
   "cell_type": "code",
   "execution_count": null,
   "metadata": {},
   "outputs": [],
   "source": [
    "with pd.ExcelWriter('out.xlsx') as writer:\n",
    "    products.to_excel(writer, sheet_name='Products')\n",
    "    merchants.to_excel(writer, sheet_name='Merchants')"
   ]
  },
  {
   "cell_type": "code",
   "execution_count": 44,
   "metadata": {},
   "outputs": [],
   "source": [
    "pd.read_excel?"
   ]
  },
  {
   "cell_type": "markdown",
   "metadata": {},
   "source": [
    "In that case the resulting `out.xlxs` file will have two sheets `Products` and `Merchants`."
   ]
  },
  {
   "cell_type": "markdown",
   "metadata": {},
   "source": [
    "# End"
   ]
  },
  {
   "cell_type": "markdown",
   "metadata": {},
   "source": [
    "![purple-divider](https://user-images.githubusercontent.com/7065401/52071927-c1cd7100-2562-11e9-908a-dde91ba14e59.png)"
   ]
  }
 ],
 "metadata": {
  "kernelspec": {
   "display_name": "Python 3",
   "language": "python",
   "name": "python3"
  },
  "language_info": {
   "codemirror_mode": {
    "name": "ipython",
    "version": 3
   },
   "file_extension": ".py",
   "mimetype": "text/x-python",
   "name": "python",
   "nbconvert_exporter": "python",
   "pygments_lexer": "ipython3",
   "version": "3.7.6"
  }
 },
 "nbformat": 4,
 "nbformat_minor": 2
}
