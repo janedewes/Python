{
 "cells": [
  {
   "cell_type": "markdown",
   "metadata": {},
   "source": [
    "### 1. Amostragem aleatória simples\n",
    "\n",
    "Um determinado número de elementos é retirado da população de forma aleatória, onde todos os elementos têm a mesma probabilidade de serem selecionados para a amostra.\n",
    "\n",
    "- amostragem aleatória simples com reposição\n",
    "- amostragem aleatória simples sem reposição"
   ]
  },
  {
   "cell_type": "code",
   "execution_count": null,
   "metadata": {},
   "outputs": [],
   "source": [
    "# Dataset iris\n",
    "\n",
    "import pandas as pd\n",
    "import seaborn as sns\n",
    "\n",
    "# Carregando a base de dados:\n",
    "iris = sns.load_dataset('iris')\n",
    "\n",
    "# Visualizando as linhas iniciais do dataframe:\n",
    "iris.head()"
   ]
  },
  {
   "cell_type": "code",
   "execution_count": null,
   "metadata": {},
   "outputs": [],
   "source": [
    "iris.info()"
   ]
  },
  {
   "cell_type": "code",
   "execution_count": null,
   "metadata": {},
   "outputs": [],
   "source": [
    "# Selecionando o  número de registros de uma amostra:\n",
    "df_sample = iris.sample(n=10)\n",
    "\n",
    "# Informações do dataframe criado:\n",
    "df_sample.info()"
   ]
  },
  {
   "cell_type": "code",
   "execution_count": null,
   "metadata": {},
   "outputs": [],
   "source": [
    "# Selecionando uma amostra aleatória de 10%:\n",
    "df_sample = iris.sample(frac=0.10)\n",
    "\n",
    "# Informações do dataframe criado:\n",
    "df_sample.info()"
   ]
  },
  {
   "cell_type": "markdown",
   "metadata": {},
   "source": [
    "### 2. Amostragem Aleatória Estratificada\n",
    "\n",
    "Essa amostragem consiste em dividir toda a população em diferentes grupos ou estratos diferentes, de maneira que um indivíduo só pode fazer parte de um único grupo e nenhum desses indivíduos pode ficar de fora de um estrato, a seleção de cada um dos indivíduos é feita de forma aleatória."
   ]
  },
  {
   "cell_type": "code",
   "execution_count": null,
   "metadata": {},
   "outputs": [],
   "source": [
    "# Aplicando a técnica no dataset íris\n",
    "from sklearn.model_selection import train_test_split\n",
    "\n",
    "# Número de registros de cada instancia:\n",
    "iris['species'].value_counts()"
   ]
  },
  {
   "cell_type": "code",
   "execution_count": null,
   "metadata": {},
   "outputs": [],
   "source": [
    "# Gerando a amostra de teste estratificada:\n",
    "X_train, X_test, y_train, y_test = train_test_split(iris.drop('species',axis=1),\n",
    "iris['species'], stratify=iris['species'], test_size=0.20)"
   ]
  },
  {
   "cell_type": "code",
   "execution_count": null,
   "metadata": {},
   "outputs": [],
   "source": [
    "# O Parâmetro stratify gera os estratos a partir do atributo selecionado.\n",
    "\n",
    "# Quantidade de registros no conjunto de teste:\n",
    "y_test.shape"
   ]
  },
  {
   "cell_type": "code",
   "execution_count": null,
   "metadata": {},
   "outputs": [],
   "source": [
    "y_test.value_counts()"
   ]
  },
  {
   "cell_type": "markdown",
   "metadata": {},
   "source": [
    "### 3. Amostragem Sistemática\n",
    "\n",
    "Os elementos da população são colocados em uma lista e cada enésimo elemento da lista é escolhido (sistematicamente) por inclusão na amostra."
   ]
  },
  {
   "cell_type": "code",
   "execution_count": null,
   "metadata": {},
   "outputs": [],
   "source": [
    "# Gerando a semente aleatória\n",
    "import numpy as np\n",
    "\n",
    "# Selecionado um registro aleatório entre os valores de 0 a 10:\n",
    "semente = np.random.choice(10, 1)\n",
    "semente"
   ]
  },
  {
   "cell_type": "code",
   "execution_count": null,
   "metadata": {},
   "outputs": [],
   "source": [
    "# Gerando índices a partir da semente\n",
    "\n",
    "# Gerando um array que inicia em 0 e termina em 100 com um intervalo de 7:\n",
    "indices = np.arange(0,100,semente)\n",
    "indices"
   ]
  },
  {
   "cell_type": "code",
   "execution_count": null,
   "metadata": {},
   "outputs": [],
   "source": [
    "# Gerando a amostra a partir dos índices\n",
    "amostra = iris.loc[indices,:]\n",
    "amostra"
   ]
  },
  {
   "cell_type": "code",
   "execution_count": null,
   "metadata": {},
   "outputs": [],
   "source": [
    "amostra.info()"
   ]
  },
  {
   "cell_type": "markdown",
   "metadata": {},
   "source": [
    "#### Conclusão\n",
    "\n",
    "Os métodos de amostragem referem-se ao modo como selecionamos elementos de uma determinada população para que eles façam parte dos nosso estudos.\n",
    "\n",
    "Se a amostra não for selecionada aleatoriamente, ela provavelmente será tendenciosa de alguma forma, e os dados não representarão corretamente a população e podem levar a conclusões distorcidas."
   ]
  }
 ],
 "metadata": {
  "kernelspec": {
   "display_name": "Python 3",
   "language": "python",
   "name": "python3"
  },
  "language_info": {
   "codemirror_mode": {
    "name": "ipython",
    "version": 3
   },
   "file_extension": ".py",
   "mimetype": "text/x-python",
   "name": "python",
   "nbconvert_exporter": "python",
   "pygments_lexer": "ipython3",
   "version": "3.7.6"
  }
 },
 "nbformat": 4,
 "nbformat_minor": 4
}
